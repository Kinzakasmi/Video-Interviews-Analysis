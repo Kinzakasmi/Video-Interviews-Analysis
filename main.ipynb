{
 "cells": [
  {
   "cell_type": "markdown",
   "metadata": {},
   "source": [
    "pip install numpy  \n",
    "pip install pandas  \n",
    "pip install openpyxl  \n",
    "pip install tqdm\n",
    "pip install ffmpeg  \n",
    "pip install pydub  \n",
    "conda install -c conda-forge librosa  \n",
    "pip install -U praat-parselmouth\n",
    "pip install lime\n",
    "pip install  \n",
    "python3 -m spacy download fr_dep_news_trf  \n",
    "pip install intel-openmp  \n",
    "pip install spacy-transformers\n",
    "\n",
    "Please restart the kernel after installing everything"
   ]
  },
  {
   "cell_type": "code",
   "execution_count": 11,
   "metadata": {},
   "outputs": [],
   "source": [
    "import pandas as pd\n",
    "import pydub\n",
    "from tqdm import tqdm\n",
    "import os\n",
    "from utils import get_end_from_start, get_start_end_from_file\n",
    "from data import read_interview\n",
    "import matplotlib.pyplot as plt\n",
    "\n",
    "pydub.AudioSegment.converter = r\"C:/Users/Kinza/anaconda3/envs/pie/Library/bin/ffmpeg.exe\" #CHANGE THIS"
   ]
  },
  {
   "cell_type": "code",
   "execution_count": 3,
   "metadata": {},
   "outputs": [],
   "source": [
    "def load_interviews(video_folder,startend_file) :\n",
    "    '''Loads the audios from each interview question.\n",
    "    Arguments:\n",
    "        video_folder : str. The name of the folder containing mp4 videos.\n",
    "        startend_file : str. The name of the file containing the video informations. \n",
    "            Must contain columns 'mail' and 'time'.\n",
    "    Returns a list of Interview objects\n",
    "    '''\n",
    "    filenames = tqdm(os.listdir(video_folder))\n",
    "    df_startend = get_start_end_from_file(startend_file)\n",
    "    interviews = list(map(lambda f : read_interview(video_folder,df_startend,f), filenames))\n",
    "    return [item for sublist in interviews for item in sublist]"
   ]
  },
  {
   "cell_type": "code",
   "execution_count": 4,
   "metadata": {},
   "outputs": [
    {
     "name": "stderr",
     "output_type": "stream",
     "text": [
      "C:\\Users\\Kinza\\anaconda3\\envs\\pie\\lib\\site-packages\\torch\\autocast_mode.py:141: UserWarning: User provided device_type of 'cuda', but CUDA is not available. Disabling\n",
      "  warnings.warn('User provided device_type of \\'cuda\\', but CUDA is not available. Disabling')\n",
      " 84%|████████▍ | 21/25 [50:13<10:21, 155.47s/it]"
     ]
    },
    {
     "name": "stdout",
     "output_type": "stream",
     "text": [
      "   wrd_cnt  dwrd_cnt  nb_vec  nb_lem    w_rate  ADJ  ADP  ADV  AUX  CONJ  ...  \\\n",
      "0      208       113      79     103  1.775047    8   33   11   15     0  ...   \n",
      "\n",
      "   book_med     book_std  book_95c  book_max  phon_min  phon_mean  phon_med  \\\n",
      "0    140.74  4669.863671   9371.63  38928.92         1   3.045161       3.0   \n",
      "\n",
      "   phon_std  phon_95c  phon_max  \n",
      "0  1.611819       6.0         9  \n",
      "\n",
      "[1 rows x 67 columns]\n",
      "sophie.bonte@student.isae-supaero.fr.mp4\n"
     ]
    },
    {
     "name": "stderr",
     "output_type": "stream",
     "text": [
      "C:\\Users\\Kinza\\anaconda3\\envs\\pie\\lib\\site-packages\\librosa\\core\\convert.py:1350: RuntimeWarning: divide by zero encountered in log10\n",
      "  + 2 * np.log10(f_sq)\n",
      "C:\\Users\\Kinza\\anaconda3\\envs\\pie\\lib\\site-packages\\torch\\autocast_mode.py:141: UserWarning: User provided device_type of 'cuda', but CUDA is not available. Disabling\n",
      "  warnings.warn('User provided device_type of \\'cuda\\', but CUDA is not available. Disabling')\n"
     ]
    },
    {
     "name": "stdout",
     "output_type": "stream",
     "text": [
      "   wrd_cnt  dwrd_cnt  nb_vec  nb_lem    w_rate  ADJ  ADP  ADV  AUX  CONJ  ...  \\\n",
      "0      167       107      77      97  1.855556   10   28    8    9     0  ...   \n",
      "\n",
      "   book_med     book_std   book_95c  book_max  phon_min  phon_mean  phon_med  \\\n",
      "0    57.265  4618.202055  8196.5375  38928.92         1   4.267123       3.5   \n",
      "\n",
      "   phon_std  phon_95c  phon_max  \n",
      "0  2.475333      8.75        15  \n",
      "\n",
      "[1 rows x 67 columns]\n"
     ]
    },
    {
     "name": "stderr",
     "output_type": "stream",
     "text": [
      "C:\\Users\\Kinza\\anaconda3\\envs\\pie\\lib\\site-packages\\librosa\\core\\convert.py:1350: RuntimeWarning: divide by zero encountered in log10\n",
      "  + 2 * np.log10(f_sq)\n",
      "C:\\Users\\Kinza\\anaconda3\\envs\\pie\\lib\\site-packages\\torch\\autocast_mode.py:141: UserWarning: User provided device_type of 'cuda', but CUDA is not available. Disabling\n",
      "  warnings.warn('User provided device_type of \\'cuda\\', but CUDA is not available. Disabling')\n"
     ]
    },
    {
     "name": "stdout",
     "output_type": "stream",
     "text": [
      "   wrd_cnt  dwrd_cnt  nb_vec  nb_lem    w_rate  ADJ  ADP  ADV  AUX  CONJ  ...  \\\n",
      "0      222       127      89     111  2.489347   11   41   23   15     0  ...   \n",
      "\n",
      "   book_med     book_std  book_95c  book_max  phon_min  phon_mean  phon_med  \\\n",
      "0     71.22  4226.977996  7937.727  38928.92         1        4.0       3.0   \n",
      "\n",
      "   phon_std  phon_95c  phon_max  \n",
      "0  2.415037       8.0        14  \n",
      "\n",
      "[1 rows x 67 columns]\n"
     ]
    },
    {
     "name": "stderr",
     "output_type": "stream",
     "text": [
      "C:\\Users\\Kinza\\anaconda3\\envs\\pie\\lib\\site-packages\\librosa\\core\\convert.py:1350: RuntimeWarning: divide by zero encountered in log10\n",
      "  + 2 * np.log10(f_sq)\n",
      "C:\\Users\\Kinza\\anaconda3\\envs\\pie\\lib\\site-packages\\torch\\autocast_mode.py:141: UserWarning: User provided device_type of 'cuda', but CUDA is not available. Disabling\n",
      "  warnings.warn('User provided device_type of \\'cuda\\', but CUDA is not available. Disabling')\n",
      " 88%|████████▊ | 22/25 [53:25<08:19, 166.43s/it]"
     ]
    },
    {
     "name": "stdout",
     "output_type": "stream",
     "text": [
      "   wrd_cnt  dwrd_cnt  nb_vec  nb_lem    w_rate  ADJ  ADP  ADV  AUX  CONJ  ...  \\\n",
      "0      284       149     108     132  2.272745   12   38   33   11     0  ...   \n",
      "\n",
      "   book_med     book_std  book_95c  book_max  phon_min  phon_mean  phon_med  \\\n",
      "0     61.69  4044.481646  7832.291  38928.92         1   3.795238       3.0   \n",
      "\n",
      "   phon_std  phon_95c  phon_max  \n",
      "0  2.149413       7.0        14  \n",
      "\n",
      "[1 rows x 67 columns]\n",
      "thomas.sentucq@student.isae-supaero.fr.mp4\n"
     ]
    },
    {
     "name": "stderr",
     "output_type": "stream",
     "text": [
      "C:\\Users\\Kinza\\anaconda3\\envs\\pie\\lib\\site-packages\\librosa\\core\\convert.py:1350: RuntimeWarning: divide by zero encountered in log10\n",
      "  + 2 * np.log10(f_sq)\n",
      "C:\\Users\\Kinza\\anaconda3\\envs\\pie\\lib\\site-packages\\torch\\autocast_mode.py:141: UserWarning: User provided device_type of 'cuda', but CUDA is not available. Disabling\n",
      "  warnings.warn('User provided device_type of \\'cuda\\', but CUDA is not available. Disabling')\n"
     ]
    },
    {
     "name": "stdout",
     "output_type": "stream",
     "text": [
      "   wrd_cnt  dwrd_cnt  nb_vec  nb_lem    w_rate  ADJ  ADP  ADV  AUX  CONJ  ...  \\\n",
      "0      209       133     101     122  2.535177   17   40   15   11     0  ...   \n",
      "\n",
      "   book_med     book_std   book_95c  book_max  phon_min  phon_mean  phon_med  \\\n",
      "0    32.605  4365.581538  8317.9045  38928.92         1   4.394444       4.0   \n",
      "\n",
      "   phon_std  phon_95c  phon_max  \n",
      "0  2.332136       9.0        14  \n",
      "\n",
      "[1 rows x 67 columns]\n"
     ]
    },
    {
     "name": "stderr",
     "output_type": "stream",
     "text": [
      "C:\\Users\\Kinza\\anaconda3\\envs\\pie\\lib\\site-packages\\librosa\\core\\convert.py:1350: RuntimeWarning: divide by zero encountered in log10\n",
      "  + 2 * np.log10(f_sq)\n",
      "C:\\Users\\Kinza\\anaconda3\\envs\\pie\\lib\\site-packages\\torch\\autocast_mode.py:141: UserWarning: User provided device_type of 'cuda', but CUDA is not available. Disabling\n",
      "  warnings.warn('User provided device_type of \\'cuda\\', but CUDA is not available. Disabling')\n"
     ]
    },
    {
     "name": "stdout",
     "output_type": "stream",
     "text": [
      "   wrd_cnt  dwrd_cnt  nb_vec  nb_lem    w_rate  ADJ  ADP  ADV  AUX  CONJ  ...  \\\n",
      "0       79        52      35      50  2.114561    3    9   13    1     0  ...   \n",
      "\n",
      "   book_med     book_std   book_95c  book_max  phon_min  phon_mean  phon_med  \\\n",
      "0    114.39  5720.289989  11400.352  38928.92         1   3.766234       3.0   \n",
      "\n",
      "   phon_std  phon_95c  phon_max  \n",
      "0   2.04429       7.0        11  \n",
      "\n",
      "[1 rows x 67 columns]\n"
     ]
    },
    {
     "name": "stderr",
     "output_type": "stream",
     "text": [
      "C:\\Users\\Kinza\\anaconda3\\envs\\pie\\lib\\site-packages\\librosa\\core\\convert.py:1350: RuntimeWarning: divide by zero encountered in log10\n",
      "  + 2 * np.log10(f_sq)\n",
      "C:\\Users\\Kinza\\anaconda3\\envs\\pie\\lib\\site-packages\\torch\\autocast_mode.py:141: UserWarning: User provided device_type of 'cuda', but CUDA is not available. Disabling\n",
      "  warnings.warn('User provided device_type of \\'cuda\\', but CUDA is not available. Disabling')\n",
      " 92%|█████████▏| 23/25 [55:25<05:05, 152.73s/it]"
     ]
    },
    {
     "name": "stdout",
     "output_type": "stream",
     "text": [
      "   wrd_cnt  dwrd_cnt  nb_vec  nb_lem   w_rate  ADJ  ADP  ADV  AUX  CONJ  ...  \\\n",
      "0      114        80      58      73  1.41299    4   20    6    3     0  ...   \n",
      "\n",
      "   book_med     book_std   book_95c  book_max  phon_min  phon_mean  phon_med  \\\n",
      "0     63.92  5331.022677  12475.516  38928.92         1   3.908257       3.0   \n",
      "\n",
      "   phon_std  phon_95c  phon_max  \n",
      "0  2.477574       8.0        13  \n",
      "\n",
      "[1 rows x 67 columns]\n",
      "thomas.sentucq@student.isae-supaero.fr1.mp4\n"
     ]
    },
    {
     "name": "stderr",
     "output_type": "stream",
     "text": [
      "C:\\Users\\Kinza\\anaconda3\\envs\\pie\\lib\\site-packages\\librosa\\core\\convert.py:1350: RuntimeWarning: divide by zero encountered in log10\n",
      "  + 2 * np.log10(f_sq)\n",
      "C:\\Users\\Kinza\\anaconda3\\envs\\pie\\lib\\site-packages\\torch\\autocast_mode.py:141: UserWarning: User provided device_type of 'cuda', but CUDA is not available. Disabling\n",
      "  warnings.warn('User provided device_type of \\'cuda\\', but CUDA is not available. Disabling')\n"
     ]
    },
    {
     "name": "stdout",
     "output_type": "stream",
     "text": [
      "   wrd_cnt  dwrd_cnt  nb_vec  nb_lem    w_rate  ADJ  ADP  ADV  AUX  CONJ  ...  \\\n",
      "0      196       116      85     110  2.442672   14   32   22    8     0  ...   \n",
      "\n",
      "   book_med    book_std  book_95c  book_max  phon_min  phon_mean  phon_med  \\\n",
      "0     55.74  4421.33244  8470.676  38928.92         1   4.069364       3.0   \n",
      "\n",
      "   phon_std  phon_95c  phon_max  \n",
      "0  2.599653       9.0        13  \n",
      "\n",
      "[1 rows x 67 columns]\n"
     ]
    },
    {
     "name": "stderr",
     "output_type": "stream",
     "text": [
      "C:\\Users\\Kinza\\anaconda3\\envs\\pie\\lib\\site-packages\\librosa\\core\\convert.py:1350: RuntimeWarning: divide by zero encountered in log10\n",
      "  + 2 * np.log10(f_sq)\n",
      "C:\\Users\\Kinza\\anaconda3\\envs\\pie\\lib\\site-packages\\torch\\autocast_mode.py:141: UserWarning: User provided device_type of 'cuda', but CUDA is not available. Disabling\n",
      "  warnings.warn('User provided device_type of \\'cuda\\', but CUDA is not available. Disabling')\n"
     ]
    },
    {
     "name": "stdout",
     "output_type": "stream",
     "text": [
      "   wrd_cnt  dwrd_cnt  nb_vec  nb_lem    w_rate  ADJ  ADP  ADV  AUX  CONJ  ...  \\\n",
      "0      147        82      57      71  2.578947   10   20   15    5     0  ...   \n",
      "\n",
      "   book_med     book_std  book_95c  book_max  phon_min  phon_mean  phon_med  \\\n",
      "0     86.01  5194.668204  9828.955  38928.92         1   3.864865       3.0   \n",
      "\n",
      "   phon_std  phon_95c  phon_max  \n",
      "0  2.346116       8.0        14  \n",
      "\n",
      "[1 rows x 67 columns]\n"
     ]
    },
    {
     "name": "stderr",
     "output_type": "stream",
     "text": [
      "C:\\Users\\Kinza\\anaconda3\\envs\\pie\\lib\\site-packages\\librosa\\core\\convert.py:1350: RuntimeWarning: divide by zero encountered in log10\n",
      "  + 2 * np.log10(f_sq)\n",
      "C:\\Users\\Kinza\\anaconda3\\envs\\pie\\lib\\site-packages\\torch\\autocast_mode.py:141: UserWarning: User provided device_type of 'cuda', but CUDA is not available. Disabling\n",
      "  warnings.warn('User provided device_type of \\'cuda\\', but CUDA is not available. Disabling')\n",
      " 96%|█████████▌| 24/25 [57:23<02:22, 142.02s/it]"
     ]
    },
    {
     "name": "stdout",
     "output_type": "stream",
     "text": [
      "   wrd_cnt  dwrd_cnt  nb_vec  nb_lem    w_rate  ADJ  ADP  ADV  AUX  CONJ  ...  \\\n",
      "0      136        94      61      85  2.048872    5   20   23    5     0  ...   \n",
      "\n",
      "   book_med     book_std  book_95c  book_max  phon_min  phon_mean  phon_med  \\\n",
      "0     58.58  4552.776152  8763.855  38928.92         1   3.536424       3.0   \n",
      "\n",
      "   phon_std  phon_95c  phon_max  \n",
      "0  2.335374       8.0        14  \n",
      "\n",
      "[1 rows x 67 columns]\n",
      "Titouan.DELLIS@student.isae-supaero.fr.mp4\n"
     ]
    },
    {
     "name": "stderr",
     "output_type": "stream",
     "text": [
      "C:\\Users\\Kinza\\anaconda3\\envs\\pie\\lib\\site-packages\\librosa\\core\\convert.py:1350: RuntimeWarning: divide by zero encountered in log10\n",
      "  + 2 * np.log10(f_sq)\n",
      "C:\\Users\\Kinza\\anaconda3\\envs\\pie\\lib\\site-packages\\torch\\autocast_mode.py:141: UserWarning: User provided device_type of 'cuda', but CUDA is not available. Disabling\n",
      "  warnings.warn('User provided device_type of \\'cuda\\', but CUDA is not available. Disabling')\n"
     ]
    },
    {
     "name": "stdout",
     "output_type": "stream",
     "text": [
      "   wrd_cnt  dwrd_cnt  nb_vec  nb_lem  w_rate  ADJ  ADP  ADV  AUX  CONJ  ...  \\\n",
      "0       45        39      24      40  0.7505    3   10    4    0     0  ...   \n",
      "\n",
      "   book_med     book_std   book_95c  book_max  phon_min  phon_mean  phon_med  \\\n",
      "0     77.36  6349.928408  16882.869  38928.92         1   3.820896       3.0   \n",
      "\n",
      "   phon_std  phon_95c  phon_max  \n",
      "0   2.53292       9.0        11  \n",
      "\n",
      "[1 rows x 67 columns]\n"
     ]
    },
    {
     "name": "stderr",
     "output_type": "stream",
     "text": [
      "C:\\Users\\Kinza\\anaconda3\\envs\\pie\\lib\\site-packages\\librosa\\core\\convert.py:1350: RuntimeWarning: divide by zero encountered in log10\n",
      "  + 2 * np.log10(f_sq)\n",
      "C:\\Users\\Kinza\\anaconda3\\envs\\pie\\lib\\site-packages\\torch\\autocast_mode.py:141: UserWarning: User provided device_type of 'cuda', but CUDA is not available. Disabling\n",
      "  warnings.warn('User provided device_type of \\'cuda\\', but CUDA is not available. Disabling')\n"
     ]
    },
    {
     "name": "stdout",
     "output_type": "stream",
     "text": [
      "   wrd_cnt  dwrd_cnt  nb_vec  nb_lem    w_rate  ADJ  ADP  ADV  AUX  CONJ  ...  \\\n",
      "0       24        23      18      25  0.554017    4    5    3    1     0  ...   \n",
      "\n",
      "   book_med    book_std   book_95c  book_max  phon_min  phon_mean  phon_med  \\\n",
      "0     177.3  7056.34148  12352.406  38928.92         1   4.108108       4.0   \n",
      "\n",
      "   phon_std  phon_95c  phon_max  \n",
      "0  1.767328       6.2         8  \n",
      "\n",
      "[1 rows x 67 columns]\n"
     ]
    },
    {
     "name": "stderr",
     "output_type": "stream",
     "text": [
      "C:\\Users\\Kinza\\anaconda3\\envs\\pie\\lib\\site-packages\\librosa\\core\\convert.py:1350: RuntimeWarning: divide by zero encountered in log10\n",
      "  + 2 * np.log10(f_sq)\n",
      "C:\\Users\\Kinza\\anaconda3\\envs\\pie\\lib\\site-packages\\torch\\autocast_mode.py:141: UserWarning: User provided device_type of 'cuda', but CUDA is not available. Disabling\n",
      "  warnings.warn('User provided device_type of \\'cuda\\', but CUDA is not available. Disabling')\n",
      "100%|██████████| 25/25 [59:38<00:00, 143.13s/it]"
     ]
    },
    {
     "name": "stdout",
     "output_type": "stream",
     "text": [
      "   wrd_cnt  dwrd_cnt  nb_vec  nb_lem    w_rate  ADJ  ADP  ADV  AUX  CONJ  ...  \\\n",
      "0       29        25      14      22  0.476958    1    4    4    2     0  ...   \n",
      "\n",
      "   book_med     book_std  book_95c  book_max  phon_min  phon_mean  phon_med  \\\n",
      "0    145.95  6627.899338  5341.569  38928.92         2   4.028571       3.0   \n",
      "\n",
      "   phon_std  phon_95c  phon_max  \n",
      "0    2.6778       8.9        14  \n",
      "\n",
      "[1 rows x 67 columns]\n"
     ]
    },
    {
     "name": "stderr",
     "output_type": "stream",
     "text": [
      "\n"
     ]
    }
   ],
   "source": [
    "video_folder = 'videos/'\n",
    "df_name = 'notes_entretiens_all.xlsx'\n",
    "\n",
    "filenames = tqdm(os.listdir(video_folder))\n",
    "df_startend = get_start_end_from_file(df_name)\n",
    "#audios = list(map(lambda f : read_interview(video_folder,df_startend,f), filenames))\n",
    "\n",
    "interviews = []\n",
    "for f in filenames : \n",
    "    interviews.append(read_interview(video_folder,df_startend,f))"
   ]
  },
  {
   "cell_type": "code",
   "execution_count": 5,
   "metadata": {},
   "outputs": [],
   "source": [
    "from data import get_features, get_scores, merge_scores_feats\n",
    "\n",
    "feats = [item for sublist in interviews for item in sublist]\n",
    "feats = get_features(feats)"
   ]
  },
  {
   "cell_type": "code",
   "execution_count": 6,
   "metadata": {},
   "outputs": [],
   "source": [
    "feats.to_csv(\"audio_lexic.csv\")"
   ]
  },
  {
   "cell_type": "code",
   "execution_count": null,
   "metadata": {},
   "outputs": [],
   "source": [
    "import pandas as pd\n",
    "feats = pd.read_csv('audio_lexic.csv')\n",
    "feats = feats.set_index('id')"
   ]
  },
  {
   "cell_type": "markdown",
   "metadata": {},
   "source": [
    "# Analysis"
   ]
  },
  {
   "cell_type": "code",
   "execution_count": 8,
   "metadata": {},
   "outputs": [],
   "source": [
    "parole = ['Q1','Q2','Q4']\n",
    "texte = ['Q5','Q6']\n",
    "visuel = ['Q3','Q7','Q8','Q21']\n",
    "discours = ['Q9','Q10','Q11','Q13','Q17']\n",
    "motivation = ['Q14','Q15']\n",
    "impression = ['Q12','Q16','Q18','Q19','Q20']"
   ]
  },
  {
   "cell_type": "code",
   "execution_count": 9,
   "metadata": {},
   "outputs": [],
   "source": [
    "df_name = 'notes_entretiens_all.xlsx'\n",
    "\n",
    "scores = get_scores(df_name)\n",
    "\n",
    "feats, scores = merge_scores_feats(scores,feats)"
   ]
  },
  {
   "cell_type": "markdown",
   "metadata": {},
   "source": [
    "# Correlation analysis"
   ]
  },
  {
   "cell_type": "code",
   "execution_count": 12,
   "metadata": {},
   "outputs": [
    {
     "data": {
      "text/plain": [
       "<AxesSubplot:>"
      ]
     },
     "execution_count": 12,
     "metadata": {},
     "output_type": "execute_result"
    },
    {
     "data": {
      "image/png": "[encoded data removed]",
      "text/plain": [
       "<Figure size 1152x432 with 2 Axes>"
      ]
     },
     "metadata": {
      "needs_background": "light"
     },
     "output_type": "display_data"
    }
   ],
   "source": [
    "import seaborn as sns\n",
    "cormat = pd.concat([feats, scores], axis=1).corr()\n",
    "\n",
    "cormat = cormat.loc[scores.columns,feats.columns]\n",
    "\n",
    "plt.figure(figsize=(16, 6))\n",
    "sns.heatmap(cormat, vmin=-1, vmax=1, cmap=sns.diverging_palette(20, 220, n=200))"
   ]
  },
  {
   "cell_type": "code",
   "execution_count": 13,
   "metadata": {},
   "outputs": [
    {
     "data": {
      "text/html": [
       "<div>\n",
       "<style scoped>\n",
       "    .dataframe tbody tr th:only-of-type {\n",
       "        vertical-align: middle;\n",
       "    }\n",
       "\n",
       "    .dataframe tbody tr th {\n",
       "        vertical-align: top;\n",
       "    }\n",
       "\n",
       "    .dataframe thead th {\n",
       "        text-align: right;\n",
       "    }\n",
       "</style>\n",
       "<table border=\"1\" class=\"dataframe\">\n",
       "  <thead>\n",
       "    <tr style=\"text-align: right;\">\n",
       "      <th></th>\n",
       "      <th>voicedcount</th>\n",
       "      <th>npause</th>\n",
       "      <th>originaldur</th>\n",
       "      <th>intensity_duration</th>\n",
       "      <th>speakingrate</th>\n",
       "      <th>nb_pauses</th>\n",
       "      <th>mean_pauses</th>\n",
       "      <th>max_pauses</th>\n",
       "      <th>mfcc16_min</th>\n",
       "      <th>wrd_cnt</th>\n",
       "      <th>dwrd_cnt</th>\n",
       "      <th>nb_vec</th>\n",
       "      <th>nb_lem</th>\n",
       "      <th>ADJ</th>\n",
       "      <th>ADP</th>\n",
       "      <th>AUX</th>\n",
       "      <th>DET</th>\n",
       "      <th>NOUN</th>\n",
       "      <th>VERB</th>\n",
       "    </tr>\n",
       "  </thead>\n",
       "  <tbody>\n",
       "    <tr>\n",
       "      <th>Q4</th>\n",
       "      <td>0.721800</td>\n",
       "      <td>NaN</td>\n",
       "      <td>0.694037</td>\n",
       "      <td>0.694037</td>\n",
       "      <td>NaN</td>\n",
       "      <td>NaN</td>\n",
       "      <td>NaN</td>\n",
       "      <td>-0.623217</td>\n",
       "      <td>-0.612139</td>\n",
       "      <td>0.641169</td>\n",
       "      <td>0.680037</td>\n",
       "      <td>0.669447</td>\n",
       "      <td>0.686729</td>\n",
       "      <td>0.620227</td>\n",
       "      <td>0.656824</td>\n",
       "      <td>NaN</td>\n",
       "      <td>0.617972</td>\n",
       "      <td>0.662524</td>\n",
       "      <td>NaN</td>\n",
       "    </tr>\n",
       "    <tr>\n",
       "      <th>Q5</th>\n",
       "      <td>NaN</td>\n",
       "      <td>NaN</td>\n",
       "      <td>NaN</td>\n",
       "      <td>NaN</td>\n",
       "      <td>NaN</td>\n",
       "      <td>NaN</td>\n",
       "      <td>-0.712559</td>\n",
       "      <td>-0.602966</td>\n",
       "      <td>NaN</td>\n",
       "      <td>NaN</td>\n",
       "      <td>NaN</td>\n",
       "      <td>NaN</td>\n",
       "      <td>NaN</td>\n",
       "      <td>NaN</td>\n",
       "      <td>NaN</td>\n",
       "      <td>NaN</td>\n",
       "      <td>NaN</td>\n",
       "      <td>NaN</td>\n",
       "      <td>NaN</td>\n",
       "    </tr>\n",
       "    <tr>\n",
       "      <th>Q6</th>\n",
       "      <td>NaN</td>\n",
       "      <td>NaN</td>\n",
       "      <td>NaN</td>\n",
       "      <td>NaN</td>\n",
       "      <td>0.601306</td>\n",
       "      <td>NaN</td>\n",
       "      <td>NaN</td>\n",
       "      <td>NaN</td>\n",
       "      <td>NaN</td>\n",
       "      <td>NaN</td>\n",
       "      <td>NaN</td>\n",
       "      <td>NaN</td>\n",
       "      <td>NaN</td>\n",
       "      <td>NaN</td>\n",
       "      <td>NaN</td>\n",
       "      <td>NaN</td>\n",
       "      <td>NaN</td>\n",
       "      <td>NaN</td>\n",
       "      <td>NaN</td>\n",
       "    </tr>\n",
       "    <tr>\n",
       "      <th>Q10</th>\n",
       "      <td>0.734463</td>\n",
       "      <td>0.66715</td>\n",
       "      <td>0.742944</td>\n",
       "      <td>0.742944</td>\n",
       "      <td>NaN</td>\n",
       "      <td>NaN</td>\n",
       "      <td>-0.602416</td>\n",
       "      <td>-0.615006</td>\n",
       "      <td>NaN</td>\n",
       "      <td>NaN</td>\n",
       "      <td>NaN</td>\n",
       "      <td>NaN</td>\n",
       "      <td>NaN</td>\n",
       "      <td>NaN</td>\n",
       "      <td>NaN</td>\n",
       "      <td>NaN</td>\n",
       "      <td>NaN</td>\n",
       "      <td>NaN</td>\n",
       "      <td>NaN</td>\n",
       "    </tr>\n",
       "    <tr>\n",
       "      <th>Q11</th>\n",
       "      <td>NaN</td>\n",
       "      <td>NaN</td>\n",
       "      <td>NaN</td>\n",
       "      <td>NaN</td>\n",
       "      <td>NaN</td>\n",
       "      <td>NaN</td>\n",
       "      <td>-0.627901</td>\n",
       "      <td>-0.648565</td>\n",
       "      <td>NaN</td>\n",
       "      <td>NaN</td>\n",
       "      <td>NaN</td>\n",
       "      <td>NaN</td>\n",
       "      <td>NaN</td>\n",
       "      <td>NaN</td>\n",
       "      <td>NaN</td>\n",
       "      <td>NaN</td>\n",
       "      <td>NaN</td>\n",
       "      <td>NaN</td>\n",
       "      <td>NaN</td>\n",
       "    </tr>\n",
       "    <tr>\n",
       "      <th>Q12</th>\n",
       "      <td>0.620068</td>\n",
       "      <td>NaN</td>\n",
       "      <td>0.605852</td>\n",
       "      <td>0.605852</td>\n",
       "      <td>NaN</td>\n",
       "      <td>NaN</td>\n",
       "      <td>NaN</td>\n",
       "      <td>-0.605801</td>\n",
       "      <td>NaN</td>\n",
       "      <td>NaN</td>\n",
       "      <td>0.608618</td>\n",
       "      <td>0.602301</td>\n",
       "      <td>0.607553</td>\n",
       "      <td>NaN</td>\n",
       "      <td>NaN</td>\n",
       "      <td>NaN</td>\n",
       "      <td>NaN</td>\n",
       "      <td>NaN</td>\n",
       "      <td>NaN</td>\n",
       "    </tr>\n",
       "    <tr>\n",
       "      <th>Q13</th>\n",
       "      <td>NaN</td>\n",
       "      <td>NaN</td>\n",
       "      <td>NaN</td>\n",
       "      <td>NaN</td>\n",
       "      <td>NaN</td>\n",
       "      <td>NaN</td>\n",
       "      <td>-0.634339</td>\n",
       "      <td>-0.669629</td>\n",
       "      <td>NaN</td>\n",
       "      <td>NaN</td>\n",
       "      <td>NaN</td>\n",
       "      <td>NaN</td>\n",
       "      <td>NaN</td>\n",
       "      <td>NaN</td>\n",
       "      <td>NaN</td>\n",
       "      <td>NaN</td>\n",
       "      <td>NaN</td>\n",
       "      <td>NaN</td>\n",
       "      <td>NaN</td>\n",
       "    </tr>\n",
       "    <tr>\n",
       "      <th>Q14</th>\n",
       "      <td>0.702181</td>\n",
       "      <td>NaN</td>\n",
       "      <td>0.673500</td>\n",
       "      <td>0.673500</td>\n",
       "      <td>NaN</td>\n",
       "      <td>NaN</td>\n",
       "      <td>NaN</td>\n",
       "      <td>-0.642319</td>\n",
       "      <td>NaN</td>\n",
       "      <td>NaN</td>\n",
       "      <td>NaN</td>\n",
       "      <td>NaN</td>\n",
       "      <td>0.604478</td>\n",
       "      <td>NaN</td>\n",
       "      <td>NaN</td>\n",
       "      <td>NaN</td>\n",
       "      <td>NaN</td>\n",
       "      <td>0.600071</td>\n",
       "      <td>NaN</td>\n",
       "    </tr>\n",
       "    <tr>\n",
       "      <th>Q15</th>\n",
       "      <td>0.606134</td>\n",
       "      <td>NaN</td>\n",
       "      <td>NaN</td>\n",
       "      <td>NaN</td>\n",
       "      <td>NaN</td>\n",
       "      <td>NaN</td>\n",
       "      <td>NaN</td>\n",
       "      <td>NaN</td>\n",
       "      <td>NaN</td>\n",
       "      <td>NaN</td>\n",
       "      <td>NaN</td>\n",
       "      <td>NaN</td>\n",
       "      <td>NaN</td>\n",
       "      <td>NaN</td>\n",
       "      <td>NaN</td>\n",
       "      <td>NaN</td>\n",
       "      <td>NaN</td>\n",
       "      <td>NaN</td>\n",
       "      <td>NaN</td>\n",
       "    </tr>\n",
       "    <tr>\n",
       "      <th>Q16</th>\n",
       "      <td>0.667564</td>\n",
       "      <td>NaN</td>\n",
       "      <td>0.636885</td>\n",
       "      <td>0.636885</td>\n",
       "      <td>NaN</td>\n",
       "      <td>NaN</td>\n",
       "      <td>NaN</td>\n",
       "      <td>-0.601556</td>\n",
       "      <td>-0.612664</td>\n",
       "      <td>NaN</td>\n",
       "      <td>0.611630</td>\n",
       "      <td>NaN</td>\n",
       "      <td>0.613430</td>\n",
       "      <td>NaN</td>\n",
       "      <td>NaN</td>\n",
       "      <td>NaN</td>\n",
       "      <td>NaN</td>\n",
       "      <td>NaN</td>\n",
       "      <td>NaN</td>\n",
       "    </tr>\n",
       "    <tr>\n",
       "      <th>Q17</th>\n",
       "      <td>NaN</td>\n",
       "      <td>NaN</td>\n",
       "      <td>NaN</td>\n",
       "      <td>NaN</td>\n",
       "      <td>NaN</td>\n",
       "      <td>NaN</td>\n",
       "      <td>-0.658379</td>\n",
       "      <td>-0.675064</td>\n",
       "      <td>NaN</td>\n",
       "      <td>NaN</td>\n",
       "      <td>NaN</td>\n",
       "      <td>NaN</td>\n",
       "      <td>NaN</td>\n",
       "      <td>NaN</td>\n",
       "      <td>NaN</td>\n",
       "      <td>NaN</td>\n",
       "      <td>NaN</td>\n",
       "      <td>NaN</td>\n",
       "      <td>NaN</td>\n",
       "    </tr>\n",
       "    <tr>\n",
       "      <th>Q18</th>\n",
       "      <td>0.621786</td>\n",
       "      <td>NaN</td>\n",
       "      <td>0.624557</td>\n",
       "      <td>0.624557</td>\n",
       "      <td>NaN</td>\n",
       "      <td>NaN</td>\n",
       "      <td>-0.669172</td>\n",
       "      <td>-0.673888</td>\n",
       "      <td>NaN</td>\n",
       "      <td>NaN</td>\n",
       "      <td>NaN</td>\n",
       "      <td>NaN</td>\n",
       "      <td>NaN</td>\n",
       "      <td>NaN</td>\n",
       "      <td>NaN</td>\n",
       "      <td>NaN</td>\n",
       "      <td>NaN</td>\n",
       "      <td>NaN</td>\n",
       "      <td>NaN</td>\n",
       "    </tr>\n",
       "    <tr>\n",
       "      <th>Q19</th>\n",
       "      <td>NaN</td>\n",
       "      <td>NaN</td>\n",
       "      <td>0.607276</td>\n",
       "      <td>0.607276</td>\n",
       "      <td>NaN</td>\n",
       "      <td>NaN</td>\n",
       "      <td>-0.644068</td>\n",
       "      <td>NaN</td>\n",
       "      <td>NaN</td>\n",
       "      <td>NaN</td>\n",
       "      <td>NaN</td>\n",
       "      <td>NaN</td>\n",
       "      <td>NaN</td>\n",
       "      <td>NaN</td>\n",
       "      <td>NaN</td>\n",
       "      <td>NaN</td>\n",
       "      <td>NaN</td>\n",
       "      <td>NaN</td>\n",
       "      <td>NaN</td>\n",
       "    </tr>\n",
       "    <tr>\n",
       "      <th>Q21</th>\n",
       "      <td>NaN</td>\n",
       "      <td>NaN</td>\n",
       "      <td>NaN</td>\n",
       "      <td>NaN</td>\n",
       "      <td>NaN</td>\n",
       "      <td>-0.610147</td>\n",
       "      <td>NaN</td>\n",
       "      <td>NaN</td>\n",
       "      <td>NaN</td>\n",
       "      <td>0.642195</td>\n",
       "      <td>0.655759</td>\n",
       "      <td>0.649072</td>\n",
       "      <td>0.653144</td>\n",
       "      <td>NaN</td>\n",
       "      <td>0.636898</td>\n",
       "      <td>0.608786</td>\n",
       "      <td>NaN</td>\n",
       "      <td>0.634905</td>\n",
       "      <td>0.610432</td>\n",
       "    </tr>\n",
       "  </tbody>\n",
       "</table>\n",
       "</div>"
      ],
      "text/plain": [
       "     voicedcount   npause  originaldur  intensity_duration  speakingrate  \\\n",
       "Q4      0.721800      NaN     0.694037            0.694037           NaN   \n",
       "Q5           NaN      NaN          NaN                 NaN           NaN   \n",
       "Q6           NaN      NaN          NaN                 NaN      0.601306   \n",
       "Q10     0.734463  0.66715     0.742944            0.742944           NaN   \n",
       "Q11          NaN      NaN          NaN                 NaN           NaN   \n",
       "Q12     0.620068      NaN     0.605852            0.605852           NaN   \n",
       "Q13          NaN      NaN          NaN                 NaN           NaN   \n",
       "Q14     0.702181      NaN     0.673500            0.673500           NaN   \n",
       "Q15     0.606134      NaN          NaN                 NaN           NaN   \n",
       "Q16     0.667564      NaN     0.636885            0.636885           NaN   \n",
       "Q17          NaN      NaN          NaN                 NaN           NaN   \n",
       "Q18     0.621786      NaN     0.624557            0.624557           NaN   \n",
       "Q19          NaN      NaN     0.607276            0.607276           NaN   \n",
       "Q21          NaN      NaN          NaN                 NaN           NaN   \n",
       "\n",
       "     nb_pauses  mean_pauses  max_pauses  mfcc16_min   wrd_cnt  dwrd_cnt  \\\n",
       "Q4         NaN          NaN   -0.623217   -0.612139  0.641169  0.680037   \n",
       "Q5         NaN    -0.712559   -0.602966         NaN       NaN       NaN   \n",
       "Q6         NaN          NaN         NaN         NaN       NaN       NaN   \n",
       "Q10        NaN    -0.602416   -0.615006         NaN       NaN       NaN   \n",
       "Q11        NaN    -0.627901   -0.648565         NaN       NaN       NaN   \n",
       "Q12        NaN          NaN   -0.605801         NaN       NaN  0.608618   \n",
       "Q13        NaN    -0.634339   -0.669629         NaN       NaN       NaN   \n",
       "Q14        NaN          NaN   -0.642319         NaN       NaN       NaN   \n",
       "Q15        NaN          NaN         NaN         NaN       NaN       NaN   \n",
       "Q16        NaN          NaN   -0.601556   -0.612664       NaN  0.611630   \n",
       "Q17        NaN    -0.658379   -0.675064         NaN       NaN       NaN   \n",
       "Q18        NaN    -0.669172   -0.673888         NaN       NaN       NaN   \n",
       "Q19        NaN    -0.644068         NaN         NaN       NaN       NaN   \n",
       "Q21  -0.610147          NaN         NaN         NaN  0.642195  0.655759   \n",
       "\n",
       "       nb_vec    nb_lem       ADJ       ADP       AUX       DET      NOUN  \\\n",
       "Q4   0.669447  0.686729  0.620227  0.656824       NaN  0.617972  0.662524   \n",
       "Q5        NaN       NaN       NaN       NaN       NaN       NaN       NaN   \n",
       "Q6        NaN       NaN       NaN       NaN       NaN       NaN       NaN   \n",
       "Q10       NaN       NaN       NaN       NaN       NaN       NaN       NaN   \n",
       "Q11       NaN       NaN       NaN       NaN       NaN       NaN       NaN   \n",
       "Q12  0.602301  0.607553       NaN       NaN       NaN       NaN       NaN   \n",
       "Q13       NaN       NaN       NaN       NaN       NaN       NaN       NaN   \n",
       "Q14       NaN  0.604478       NaN       NaN       NaN       NaN  0.600071   \n",
       "Q15       NaN       NaN       NaN       NaN       NaN       NaN       NaN   \n",
       "Q16       NaN  0.613430       NaN       NaN       NaN       NaN       NaN   \n",
       "Q17       NaN       NaN       NaN       NaN       NaN       NaN       NaN   \n",
       "Q18       NaN       NaN       NaN       NaN       NaN       NaN       NaN   \n",
       "Q19       NaN       NaN       NaN       NaN       NaN       NaN       NaN   \n",
       "Q21  0.649072  0.653144       NaN  0.636898  0.608786       NaN  0.634905   \n",
       "\n",
       "         VERB  \n",
       "Q4        NaN  \n",
       "Q5        NaN  \n",
       "Q6        NaN  \n",
       "Q10       NaN  \n",
       "Q11       NaN  \n",
       "Q12       NaN  \n",
       "Q13       NaN  \n",
       "Q14       NaN  \n",
       "Q15       NaN  \n",
       "Q16       NaN  \n",
       "Q17       NaN  \n",
       "Q18       NaN  \n",
       "Q19       NaN  \n",
       "Q21  0.610432  "
      ]
     },
     "execution_count": 13,
     "metadata": {},
     "output_type": "execute_result"
    }
   ],
   "source": [
    "cormat[abs(cormat)>0.6].dropna(axis=0,how='all').dropna(axis=1,how='all')"
   ]
  },
  {
   "cell_type": "code",
   "execution_count": 55,
   "metadata": {},
   "outputs": [
    {
     "data": {
      "image/png": "[encoded data removed]",
      "text/plain": [
       "<Figure size 432x288 with 1 Axes>"
      ]
     },
     "metadata": {
      "needs_background": "light"
     },
     "output_type": "display_data"
    }
   ],
   "source": [
    "plt.scatter(feats['mean_pauses'],scores['Q5'])\n",
    "plt.xlabel('Mean pause duration')\n",
    "plt.ylabel('Score')\n",
    "plt.title('Did the candidate speak with a rich vocabulary and without mistakes ?');"
   ]
  },
  {
   "cell_type": "code",
   "execution_count": 56,
   "metadata": {},
   "outputs": [
    {
     "data": {
      "image/png": "[encoded data removed]",
      "text/plain": [
       "<Figure size 432x288 with 1 Axes>"
      ]
     },
     "metadata": {
      "needs_background": "light"
     },
     "output_type": "display_data"
    }
   ],
   "source": [
    "plt.scatter(feats['NOUN'],scores['Q14'])\n",
    "plt.xlabel('Number of nouns')\n",
    "plt.ylabel('Score')\n",
    "plt.title('Did you feel that the candidate was motivated for the role ?');"
   ]
  },
  {
   "cell_type": "code",
   "execution_count": 57,
   "metadata": {},
   "outputs": [
    {
     "data": {
      "image/png": "[encoded data removed]",
      "text/plain": [
       "<Figure size 432x288 with 1 Axes>"
      ]
     },
     "metadata": {
      "needs_background": "light"
     },
     "output_type": "display_data"
    }
   ],
   "source": [
    "plt.scatter(feats['nb_lem'],scores['Q4'])\n",
    "plt.xlabel('Number of lems')\n",
    "plt.ylabel('Score')\n",
    "plt.title('Was the candidat convincing/persuasive in delivering ?');"
   ]
  },
  {
   "cell_type": "markdown",
   "metadata": {},
   "source": [
    "# Feature importance"
   ]
  },
  {
   "cell_type": "code",
   "execution_count": 14,
   "metadata": {},
   "outputs": [],
   "source": [
    "import matplotlib.pyplot as plt\n",
    "from sklearn.ensemble import RandomForestRegressor\n",
    "from sklearn.model_selection import train_test_split\n",
    "from sklearn.metrics import mean_squared_error, f1_score\n",
    "\n",
    "X_train, X_test, y_train, y_test = train_test_split(feats,scores,test_size=0.2, random_state=42)\n",
    "\n",
    "parole = ['Q1','Q2','Q4']\n",
    "texte = ['Q5','Q6']\n",
    "visuel = ['Q3','Q7','Q8','Q21']\n",
    "discours = ['Q9','Q10','Q11','Q13','Q17']\n",
    "motivation = ['Q14','Q15']\n",
    "impression = ['Q12','Q16','Q18','Q19','Q20']\n",
    "best_scores = parole+texte+visuel+discours+motivation+impression\n",
    "\n",
    "mse = []\n",
    "model = RandomForestRegressor()\n",
    "for q in best_scores:\n",
    "    y_tr = y_train[q]\n",
    "    y_te = y_test[q]\n",
    "\n",
    "    model.fit(X_train,y_tr)\n",
    "    mse.append(mean_squared_error(model.predict(X_test),y_te))"
   ]
  },
  {
   "cell_type": "code",
   "execution_count": 15,
   "metadata": {},
   "outputs": [
    {
     "data": {
      "text/plain": [
       "Text(0.5, 0, 'MSE')"
      ]
     },
     "execution_count": 15,
     "metadata": {},
     "output_type": "execute_result"
    },
    {
     "data": {
      "image/png": "[encoded data removed]",
      "text/plain": [
       "<Figure size 720x360 with 1 Axes>"
      ]
     },
     "metadata": {
      "needs_background": "light"
     },
     "output_type": "display_data"
    }
   ],
   "source": [
    "def color(c):\n",
    "    if c in parole:\n",
    "        return 'violet'\n",
    "    elif c in texte:\n",
    "        return 'g'\n",
    "    elif c in visuel:\n",
    "        return 'b'\n",
    "    elif c in discours:\n",
    "        return 'orange'\n",
    "    elif c in motivation:\n",
    "        return 'lightblue'\n",
    "    else:\n",
    "        return 'brown'\n",
    "    \n",
    "colors = pd.DataFrame()\n",
    "colors['column'] = ['Q'+str(i+1) for i in range(len(best_scores))]\n",
    "colors['col'] = colors.apply(lambda c: color(c.column),axis=1)\n",
    "\n",
    "plt.figure(figsize=(10,5))\n",
    "plt.bar(['Q'+str(i+1) for i in range(len(best_scores))],mse, color=colors['col'])\n",
    "plt.title('Errors of models using one score at a time')\n",
    "plt.xlabel('Question')\n",
    "plt.xlabel('MSE')"
   ]
  },
  {
   "cell_type": "code",
   "execution_count": 16,
   "metadata": {},
   "outputs": [
    {
     "data": {
      "text/plain": [
       "Text(0.5, 0, 'MSE')"
      ]
     },
     "execution_count": 16,
     "metadata": {},
     "output_type": "execute_result"
    },
    {
     "data": {
      "image/png": "[encoded data removed]",
      "text/plain": [
       "<Figure size 720x360 with 1 Axes>"
      ]
     },
     "metadata": {
      "needs_background": "light"
     },
     "output_type": "display_data"
    }
   ],
   "source": [
    "parole = ['Q1','Q4']\n",
    "texte = ['Q5','Q6']\n",
    "visuel = []\n",
    "discours = ['Q9','Q10','Q11','Q13','Q17']\n",
    "motivation = ['Q14']\n",
    "impression = ['Q12','Q16','Q18','Q19']\n",
    "best_scores = parole+texte+visuel+discours+motivation+impression\n",
    "\n",
    "colors = pd.DataFrame()\n",
    "colors['column'] = best_scores\n",
    "colors['col'] = colors.apply(lambda c: color(c.column),axis=1)\n",
    "\n",
    "X_train, X_test, y_train, y_test = train_test_split(feats,scores[best_scores],test_size=0.2, random_state=42)\n",
    "\n",
    "mse = []\n",
    "model = RandomForestRegressor()\n",
    "for q in best_scores:\n",
    "    y_tr = y_train[q]\n",
    "    y_te = y_test[q]\n",
    "\n",
    "    model.fit(X_train,y_tr)\n",
    "    mse.append(mean_squared_error(model.predict(X_test),y_te))\n",
    "\n",
    "plt.figure(figsize=(10,5))\n",
    "plt.bar(best_scores,mse, color=colors['col'])\n",
    "plt.title('Errors of models using one score at a time')\n",
    "plt.xlabel('Question')\n",
    "plt.xlabel('MSE')"
   ]
  },
  {
   "cell_type": "markdown",
   "metadata": {},
   "source": [
    "# Multi-label classification"
   ]
  },
  {
   "cell_type": "code",
   "execution_count": 19,
   "metadata": {},
   "outputs": [
    {
     "name": "stdout",
     "output_type": "stream",
     "text": [
      "train mse: 0.03064883695867991\n",
      "test mse:  0.12147022385046845\n"
     ]
    }
   ],
   "source": [
    "import numpy as np\n",
    "\n",
    "score = scores.copy()\n",
    "score['parole'] = score[parole].mean(axis=1)\n",
    "score['texte'] = score[texte].mean(axis=1)\n",
    "#score['visuel'] = score[visuel].mean(axis=1)\n",
    "score['discours'] = score[discours].mean(axis=1)\n",
    "score['motivation'] = score[motivation].mean(axis=1)\n",
    "score['impression'] = score[impression].mean(axis=1)\n",
    "score['all'] = score.mean(axis=1)\n",
    "\n",
    "score = score[['parole','texte','discours','motivation','impression','all']]\n",
    "\n",
    "\n",
    "X_train, X_test, y_train, y_test = train_test_split(feats,score,test_size=0.2, random_state=42)\n",
    "\n",
    "model = RandomForestRegressor(n_estimators=50,max_depth=50)\n",
    "model.fit(X_train,y_train)\n",
    "\n",
    "metric = mean_squared_error\n",
    "\n",
    "print('train mse:',metric(model.predict(X_train),y_train))\n",
    "print('test mse: ',metric(model.predict(X_test),y_test))"
   ]
  },
  {
   "cell_type": "code",
   "execution_count": 35,
   "metadata": {},
   "outputs": [
    {
     "name": "stdout",
     "output_type": "stream",
     "text": [
      "[1.0, 1.0, 1.0, 1.0, 1.0, 1.0, 1.0, 1.0, 1.0, 1.0, 1.0, 1.0, 1.0, 1.0, 1.0, 1.0, 1.0, 1.0, 1.0, 1.0, 1.0]\n",
      "[0.77, 0.37, 0.45, 0.54, 1.0, 0.47, 0.75, 0.56, 0.67, 0.48, 0.47, 0.46, 0.55, 0.5, 0.3, 0.69, 0.82, 0.64, 0.75, 0.43, 0.54]\n"
     ]
    }
   ],
   "source": [
    "from sklearn.metrics import roc_auc_score\n",
    "from sklearn.ensemble import RandomForestClassifier\n",
    "from sklearn.multioutput import MultiOutputClassifier\n",
    "\n",
    "score = scores.copy()\n",
    "score['parole'] = score[parole].mean(axis=1)\n",
    "score['texte'] = score[texte].mean(axis=1)\n",
    "#score['visuel'] = score[visuel].mean(axis=1)\n",
    "score['discours'] = score[discours].mean(axis=1)\n",
    "score['motivation'] = score[motivation].mean(axis=1)\n",
    "score['impression'] = score[impression].mean(axis=1)\n",
    "score['all'] = score.mean(axis=1)\n",
    "\n",
    "#score = score[['parole','texte','discours','motivation','impression','all']]\n",
    "score = scores\n",
    "\n",
    "X_train, X_test, y_train, y_test = train_test_split(feats,score.round(),test_size=0.2, random_state=42)\n",
    "\n",
    "model = MultiOutputClassifier(RandomForestClassifier(n_estimators=30,max_depth=50))\n",
    "model.fit(X_train,y_train)\n",
    "\n",
    "metric =  f1_score\n",
    "\n",
    "predictions = np.stack(model.predict(X_train))\n",
    "print([metric(np.array(y_train)[:,i],predictions[:,i],average='weighted') for i in range(score.shape[1])])\n",
    "#roc_auc_score(np.stack(predictions),np.stack(y_train))\n",
    "\n",
    "predictions = np.stack(model.predict(X_test))\n",
    "print([round(metric(np.array(y_test)[:,i],predictions[:,i],average='weighted'),2) for i in range(score.shape[1])])"
   ]
  },
  {
   "cell_type": "code",
   "execution_count": 44,
   "metadata": {},
   "outputs": [
    {
     "name": "stdout",
     "output_type": "stream",
     "text": [
      "[1.0, 1.0, 1.0, 1.0, 1.0, 1.0, 1.0, 1.0, 1.0, 1.0, 1.0, 1.0, 1.0, 1.0, 1.0, 1.0, 1.0, 1.0, 1.0, 1.0, 1.0]\n",
      "[0.68, 0.27, 0.49, 0.45, 1.0, 0.37, 0.62, 0.34, 0.66, 0.31, 0.38, 0.49, 0.5, 0.58, 0.3, 0.54, 0.65, 0.58, 0.82, 0.32, 0.5]\n"
     ]
    }
   ],
   "source": [
    "from sklearn.svm import SVC\n",
    "model = MultiOutputClassifier(SVC(C=3,kernel=\"linear\"))\n",
    "\n",
    "model.fit(X_train,y_train)\n",
    "\n",
    "metric =  f1_score\n",
    "\n",
    "predictions = np.stack(model.predict(X_train))\n",
    "print([round(metric(np.array(y_train)[:,i],predictions[:,i],average='weighted'),2) for i in range(score.shape[1])])\n",
    "#roc_auc_score(np.stack(predictions),np.stack(y_train))\n",
    "\n",
    "predictions = np.stack(model.predict(X_test))\n",
    "print([round(metric(np.array(y_test)[:,i],predictions[:,i],average='weighted'),2) for i in range(score.shape[1])])\n"
   ]
  }
 ],
 "metadata": {
  "interpreter": {
   "hash": "22481484a5f7e79f314e40293bb4bf1039ec3aa5f1615d995a7f4d567969c466"
  },
  "kernelspec": {
   "display_name": "Python 3.8.12 ('pie')",
   "language": "python",
   "name": "python3"
  },
  "language_info": {
   "codemirror_mode": {
    "name": "ipython",
    "version": 3
   },
   "file_extension": ".py",
   "mimetype": "text/x-python",
   "name": "python",
   "nbconvert_exporter": "python",
   "pygments_lexer": "ipython3",
   "version": "3.8.12"
  },
  "orig_nbformat": 4
 },
 "nbformat": 4,
 "nbformat_minor": 2
}
