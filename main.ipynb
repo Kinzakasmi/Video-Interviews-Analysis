{
 "cells": [
  {
   "cell_type": "markdown",
   "metadata": {},
   "source": [
    "pip install numpy  \n",
    "pip install pandas  \n",
    "pip install openpyxl  \n",
    "pip install tqdm\n",
    "pip install ffmpeg  \n",
    "pip install pydub  \n",
    "conda install -c conda-forge librosa  \n",
    "pip install -U praat-parselmouth\n",
    "pip install lime\n",
    "pip install  \n",
    "python3 -m spacy download fr_dep_news_trf  \n",
    "pip install intel-openmp  \n",
    "pip install spacy-transformers\n",
    "\n",
    "Please restart the kernel after installing everything"
   ]
  },
  {
   "cell_type": "code",
   "execution_count": 1,
   "metadata": {},
   "outputs": [
    {
     "ename": "KeyboardInterrupt",
     "evalue": "",
     "output_type": "error",
     "traceback": [
      "\u001b[1;31m---------------------------------------------------------------------------\u001b[0m",
      "\u001b[1;31mKeyboardInterrupt\u001b[0m                         Traceback (most recent call last)",
      "\u001b[1;32mc:\\Users\\Kinza\\Documents\\GitHub\\Video-interviews-analysis\\main.ipynb Cell 2'\u001b[0m in \u001b[0;36m<module>\u001b[1;34m\u001b[0m\n\u001b[0;32m      <a href='vscode-notebook-cell:/c%3A/Users/Kinza/Documents/GitHub/Video-interviews-analysis/main.ipynb#ch0000001?line=3'>4</a>\u001b[0m \u001b[39mimport\u001b[39;00m \u001b[39mos\u001b[39;00m\n\u001b[0;32m      <a href='vscode-notebook-cell:/c%3A/Users/Kinza/Documents/GitHub/Video-interviews-analysis/main.ipynb#ch0000001?line=4'>5</a>\u001b[0m \u001b[39mfrom\u001b[39;00m \u001b[39mutils\u001b[39;00m \u001b[39mimport\u001b[39;00m get_end_from_start, get_start_end_from_file\n\u001b[1;32m----> <a href='vscode-notebook-cell:/c%3A/Users/Kinza/Documents/GitHub/Video-interviews-analysis/main.ipynb#ch0000001?line=5'>6</a>\u001b[0m \u001b[39mfrom\u001b[39;00m \u001b[39mdata\u001b[39;00m \u001b[39mimport\u001b[39;00m read_interview\n\u001b[0;32m      <a href='vscode-notebook-cell:/c%3A/Users/Kinza/Documents/GitHub/Video-interviews-analysis/main.ipynb#ch0000001?line=7'>8</a>\u001b[0m pydub\u001b[39m.\u001b[39mAudioSegment\u001b[39m.\u001b[39mconverter \u001b[39m=\u001b[39m \u001b[39mr\u001b[39m\u001b[39m\"\u001b[39m\u001b[39mC:/Users/Kinza/anaconda3/envs/pie/Library/bin/ffmpeg.exe\u001b[39m\u001b[39m\"\u001b[39m\n",
      "File \u001b[1;32mc:\\Users\\Kinza\\Documents\\GitHub\\Video-interviews-analysis\\data.py:2\u001b[0m, in \u001b[0;36m<module>\u001b[1;34m\u001b[0m\n\u001b[0;32m      <a href='file:///c%3A/Users/Kinza/Documents/GitHub/Video-interviews-analysis/data.py?line=0'>1</a>\u001b[0m \u001b[39mimport\u001b[39;00m \u001b[39mpandas\u001b[39;00m \u001b[39mas\u001b[39;00m \u001b[39mpd\u001b[39;00m\n\u001b[1;32m----> <a href='file:///c%3A/Users/Kinza/Documents/GitHub/Video-interviews-analysis/data.py?line=1'>2</a>\u001b[0m \u001b[39mfrom\u001b[39;00m \u001b[39maudio_feats_extract\u001b[39;00m \u001b[39mimport\u001b[39;00m Audio, split_questions\n\u001b[0;32m      <a href='file:///c%3A/Users/Kinza/Documents/GitHub/Video-interviews-analysis/data.py?line=2'>3</a>\u001b[0m \u001b[39mfrom\u001b[39;00m \u001b[39mspeech_feats_extract\u001b[39;00m \u001b[39mimport\u001b[39;00m Lexic\n\u001b[0;32m      <a href='file:///c%3A/Users/Kinza/Documents/GitHub/Video-interviews-analysis/data.py?line=3'>4</a>\u001b[0m \u001b[39mimport\u001b[39;00m \u001b[39mos\u001b[39;00m\n",
      "File \u001b[1;32mc:\\Users\\Kinza\\Documents\\GitHub\\Video-interviews-analysis\\audio_feats_extract.py:2\u001b[0m, in \u001b[0;36m<module>\u001b[1;34m\u001b[0m\n\u001b[0;32m      <a href='file:///c%3A/Users/Kinza/Documents/GitHub/Video-interviews-analysis/audio_feats_extract.py?line=0'>1</a>\u001b[0m \u001b[39mimport\u001b[39;00m \u001b[39mpydub\u001b[39;00m\n\u001b[1;32m----> <a href='file:///c%3A/Users/Kinza/Documents/GitHub/Video-interviews-analysis/audio_feats_extract.py?line=1'>2</a>\u001b[0m \u001b[39mimport\u001b[39;00m \u001b[39mlibrosa\u001b[39;00m\n\u001b[0;32m      <a href='file:///c%3A/Users/Kinza/Documents/GitHub/Video-interviews-analysis/audio_feats_extract.py?line=2'>3</a>\u001b[0m \u001b[39mimport\u001b[39;00m \u001b[39mnumpy\u001b[39;00m \u001b[39mas\u001b[39;00m \u001b[39mnp\u001b[39;00m\n\u001b[0;32m      <a href='file:///c%3A/Users/Kinza/Documents/GitHub/Video-interviews-analysis/audio_feats_extract.py?line=3'>4</a>\u001b[0m \u001b[39mimport\u001b[39;00m \u001b[39mitertools\u001b[39;00m\n",
      "File \u001b[1;32m~\\anaconda3\\envs\\pie\\lib\\site-packages\\librosa\\__init__.py:211\u001b[0m, in \u001b[0;36m<module>\u001b[1;34m\u001b[0m\n\u001b[0;32m    <a href='file:///~/anaconda3/envs/pie/lib/site-packages/librosa/__init__.py?line=208'>209</a>\u001b[0m \u001b[39m# And all the librosa sub-modules\u001b[39;00m\n\u001b[0;32m    <a href='file:///~/anaconda3/envs/pie/lib/site-packages/librosa/__init__.py?line=209'>210</a>\u001b[0m \u001b[39mfrom\u001b[39;00m \u001b[39m.\u001b[39;00m\u001b[39m_cache\u001b[39;00m \u001b[39mimport\u001b[39;00m cache\n\u001b[1;32m--> <a href='file:///~/anaconda3/envs/pie/lib/site-packages/librosa/__init__.py?line=210'>211</a>\u001b[0m \u001b[39mfrom\u001b[39;00m \u001b[39m.\u001b[39;00m \u001b[39mimport\u001b[39;00m core\n\u001b[0;32m    <a href='file:///~/anaconda3/envs/pie/lib/site-packages/librosa/__init__.py?line=211'>212</a>\u001b[0m \u001b[39mfrom\u001b[39;00m \u001b[39m.\u001b[39;00m \u001b[39mimport\u001b[39;00m beat\n\u001b[0;32m    <a href='file:///~/anaconda3/envs/pie/lib/site-packages/librosa/__init__.py?line=212'>213</a>\u001b[0m \u001b[39mfrom\u001b[39;00m \u001b[39m.\u001b[39;00m \u001b[39mimport\u001b[39;00m decompose\n",
      "File \u001b[1;32m~\\anaconda3\\envs\\pie\\lib\\site-packages\\librosa\\core\\__init__.py:5\u001b[0m, in \u001b[0;36m<module>\u001b[1;34m\u001b[0m\n\u001b[0;32m      <a href='file:///~/anaconda3/envs/pie/lib/site-packages/librosa/core/__init__.py?line=0'>1</a>\u001b[0m \u001b[39m#!/usr/bin/env python\u001b[39;00m\n\u001b[0;32m      <a href='file:///~/anaconda3/envs/pie/lib/site-packages/librosa/core/__init__.py?line=1'>2</a>\u001b[0m \u001b[39m# -*- coding: utf-8 -*-\u001b[39;00m\n\u001b[0;32m      <a href='file:///~/anaconda3/envs/pie/lib/site-packages/librosa/core/__init__.py?line=2'>3</a>\u001b[0m \u001b[39m\"\"\" Core IO and DSP functions\"\"\"\u001b[39;00m\n\u001b[1;32m----> <a href='file:///~/anaconda3/envs/pie/lib/site-packages/librosa/core/__init__.py?line=4'>5</a>\u001b[0m \u001b[39mfrom\u001b[39;00m \u001b[39m.\u001b[39;00m\u001b[39mconvert\u001b[39;00m \u001b[39mimport\u001b[39;00m \u001b[39m*\u001b[39m  \u001b[39m# pylint: disable=wildcard-import\u001b[39;00m\n\u001b[0;32m      <a href='file:///~/anaconda3/envs/pie/lib/site-packages/librosa/core/__init__.py?line=5'>6</a>\u001b[0m \u001b[39mfrom\u001b[39;00m \u001b[39m.\u001b[39;00m\u001b[39maudio\u001b[39;00m \u001b[39mimport\u001b[39;00m \u001b[39m*\u001b[39m  \u001b[39m# pylint: disable=wildcard-import\u001b[39;00m\n\u001b[0;32m      <a href='file:///~/anaconda3/envs/pie/lib/site-packages/librosa/core/__init__.py?line=6'>7</a>\u001b[0m \u001b[39mfrom\u001b[39;00m \u001b[39m.\u001b[39;00m\u001b[39mspectrum\u001b[39;00m \u001b[39mimport\u001b[39;00m \u001b[39m*\u001b[39m  \u001b[39m# pylint: disable=wildcard-import\u001b[39;00m\n",
      "File \u001b[1;32m~\\anaconda3\\envs\\pie\\lib\\site-packages\\librosa\\core\\convert.py:7\u001b[0m, in \u001b[0;36m<module>\u001b[1;34m\u001b[0m\n\u001b[0;32m      <a href='file:///~/anaconda3/envs/pie/lib/site-packages/librosa/core/convert.py?line=4'>5</a>\u001b[0m \u001b[39mimport\u001b[39;00m \u001b[39mre\u001b[39;00m\n\u001b[0;32m      <a href='file:///~/anaconda3/envs/pie/lib/site-packages/librosa/core/convert.py?line=5'>6</a>\u001b[0m \u001b[39mimport\u001b[39;00m \u001b[39mnumpy\u001b[39;00m \u001b[39mas\u001b[39;00m \u001b[39mnp\u001b[39;00m\n\u001b[1;32m----> <a href='file:///~/anaconda3/envs/pie/lib/site-packages/librosa/core/convert.py?line=6'>7</a>\u001b[0m \u001b[39mfrom\u001b[39;00m \u001b[39m.\u001b[39;00m \u001b[39mimport\u001b[39;00m notation\n\u001b[0;32m      <a href='file:///~/anaconda3/envs/pie/lib/site-packages/librosa/core/convert.py?line=7'>8</a>\u001b[0m \u001b[39mfrom\u001b[39;00m \u001b[39m.\u001b[39;00m\u001b[39m.\u001b[39;00m\u001b[39mutil\u001b[39;00m\u001b[39m.\u001b[39;00m\u001b[39mexceptions\u001b[39;00m \u001b[39mimport\u001b[39;00m ParameterError\n\u001b[0;32m     <a href='file:///~/anaconda3/envs/pie/lib/site-packages/librosa/core/convert.py?line=9'>10</a>\u001b[0m __all__ \u001b[39m=\u001b[39m [\n\u001b[0;32m     <a href='file:///~/anaconda3/envs/pie/lib/site-packages/librosa/core/convert.py?line=10'>11</a>\u001b[0m     \u001b[39m\"\u001b[39m\u001b[39mframes_to_samples\u001b[39m\u001b[39m\"\u001b[39m,\n\u001b[0;32m     <a href='file:///~/anaconda3/envs/pie/lib/site-packages/librosa/core/convert.py?line=11'>12</a>\u001b[0m     \u001b[39m\"\u001b[39m\u001b[39mframes_to_time\u001b[39m\u001b[39m\"\u001b[39m,\n\u001b[1;32m   (...)\u001b[0m\n\u001b[0;32m     <a href='file:///~/anaconda3/envs/pie/lib/site-packages/librosa/core/convert.py?line=50'>51</a>\u001b[0m     \u001b[39m\"\u001b[39m\u001b[39mhz_to_svara_c\u001b[39m\u001b[39m\"\u001b[39m,\n\u001b[0;32m     <a href='file:///~/anaconda3/envs/pie/lib/site-packages/librosa/core/convert.py?line=51'>52</a>\u001b[0m ]\n",
      "File \u001b[1;32m~\\anaconda3\\envs\\pie\\lib\\site-packages\\librosa\\core\\notation.py:8\u001b[0m, in \u001b[0;36m<module>\u001b[1;34m\u001b[0m\n\u001b[0;32m      <a href='file:///~/anaconda3/envs/pie/lib/site-packages/librosa/core/notation.py?line=5'>6</a>\u001b[0m \u001b[39mimport\u001b[39;00m \u001b[39mnumpy\u001b[39;00m \u001b[39mas\u001b[39;00m \u001b[39mnp\u001b[39;00m\n\u001b[0;32m      <a href='file:///~/anaconda3/envs/pie/lib/site-packages/librosa/core/notation.py?line=6'>7</a>\u001b[0m \u001b[39mfrom\u001b[39;00m \u001b[39m.\u001b[39;00m\u001b[39m.\u001b[39;00m\u001b[39m_cache\u001b[39;00m \u001b[39mimport\u001b[39;00m cache\n\u001b[1;32m----> <a href='file:///~/anaconda3/envs/pie/lib/site-packages/librosa/core/notation.py?line=7'>8</a>\u001b[0m \u001b[39mfrom\u001b[39;00m \u001b[39m.\u001b[39;00m\u001b[39m.\u001b[39;00m\u001b[39mutil\u001b[39;00m\u001b[39m.\u001b[39;00m\u001b[39mexceptions\u001b[39;00m \u001b[39mimport\u001b[39;00m ParameterError\n\u001b[0;32m     <a href='file:///~/anaconda3/envs/pie/lib/site-packages/librosa/core/notation.py?line=9'>10</a>\u001b[0m __all__ \u001b[39m=\u001b[39m [\n\u001b[0;32m     <a href='file:///~/anaconda3/envs/pie/lib/site-packages/librosa/core/notation.py?line=10'>11</a>\u001b[0m     \u001b[39m\"\u001b[39m\u001b[39mkey_to_degrees\u001b[39m\u001b[39m\"\u001b[39m,\n\u001b[0;32m     <a href='file:///~/anaconda3/envs/pie/lib/site-packages/librosa/core/notation.py?line=11'>12</a>\u001b[0m     \u001b[39m\"\u001b[39m\u001b[39mkey_to_notes\u001b[39m\u001b[39m\"\u001b[39m,\n\u001b[1;32m   (...)\u001b[0m\n\u001b[0;32m     <a href='file:///~/anaconda3/envs/pie/lib/site-packages/librosa/core/notation.py?line=16'>17</a>\u001b[0m     \u001b[39m\"\u001b[39m\u001b[39mlist_thaat\u001b[39m\u001b[39m\"\u001b[39m,\n\u001b[0;32m     <a href='file:///~/anaconda3/envs/pie/lib/site-packages/librosa/core/notation.py?line=17'>18</a>\u001b[0m ]\n\u001b[0;32m     <a href='file:///~/anaconda3/envs/pie/lib/site-packages/librosa/core/notation.py?line=19'>20</a>\u001b[0m THAAT_MAP \u001b[39m=\u001b[39m \u001b[39mdict\u001b[39m(\n\u001b[0;32m     <a href='file:///~/anaconda3/envs/pie/lib/site-packages/librosa/core/notation.py?line=20'>21</a>\u001b[0m     bilaval\u001b[39m=\u001b[39m[\u001b[39m0\u001b[39m, \u001b[39m2\u001b[39m, \u001b[39m4\u001b[39m, \u001b[39m5\u001b[39m, \u001b[39m7\u001b[39m, \u001b[39m9\u001b[39m, \u001b[39m11\u001b[39m],\n\u001b[0;32m     <a href='file:///~/anaconda3/envs/pie/lib/site-packages/librosa/core/notation.py?line=21'>22</a>\u001b[0m     khamaj\u001b[39m=\u001b[39m[\u001b[39m0\u001b[39m, \u001b[39m2\u001b[39m, \u001b[39m4\u001b[39m, \u001b[39m5\u001b[39m, \u001b[39m7\u001b[39m, \u001b[39m9\u001b[39m, \u001b[39m10\u001b[39m],\n\u001b[1;32m   (...)\u001b[0m\n\u001b[0;32m     <a href='file:///~/anaconda3/envs/pie/lib/site-packages/librosa/core/notation.py?line=29'>30</a>\u001b[0m     bhairav\u001b[39m=\u001b[39m[\u001b[39m0\u001b[39m, \u001b[39m1\u001b[39m, \u001b[39m4\u001b[39m, \u001b[39m5\u001b[39m, \u001b[39m7\u001b[39m, \u001b[39m8\u001b[39m, \u001b[39m11\u001b[39m],\n\u001b[0;32m     <a href='file:///~/anaconda3/envs/pie/lib/site-packages/librosa/core/notation.py?line=30'>31</a>\u001b[0m )\n",
      "File \u001b[1;32m~\\anaconda3\\envs\\pie\\lib\\site-packages\\librosa\\util\\__init__.py:84\u001b[0m, in \u001b[0;36m<module>\u001b[1;34m\u001b[0m\n\u001b[0;32m      <a href='file:///~/anaconda3/envs/pie/lib/site-packages/librosa/util/__init__.py?line=2'>3</a>\u001b[0m \u001b[39m\"\"\"\u001b[39;00m\n\u001b[0;32m      <a href='file:///~/anaconda3/envs/pie/lib/site-packages/librosa/util/__init__.py?line=3'>4</a>\u001b[0m \u001b[39mUtilities\u001b[39;00m\n\u001b[0;32m      <a href='file:///~/anaconda3/envs/pie/lib/site-packages/librosa/util/__init__.py?line=4'>5</a>\u001b[0m \u001b[39m=========\u001b[39;00m\n\u001b[1;32m   (...)\u001b[0m\n\u001b[0;32m     <a href='file:///~/anaconda3/envs/pie/lib/site-packages/librosa/util/__init__.py?line=79'>80</a>\u001b[0m \n\u001b[0;32m     <a href='file:///~/anaconda3/envs/pie/lib/site-packages/librosa/util/__init__.py?line=80'>81</a>\u001b[0m \u001b[39m\"\"\"\u001b[39;00m\n\u001b[0;32m     <a href='file:///~/anaconda3/envs/pie/lib/site-packages/librosa/util/__init__.py?line=82'>83</a>\u001b[0m \u001b[39mfrom\u001b[39;00m \u001b[39m.\u001b[39;00m\u001b[39mutils\u001b[39;00m \u001b[39mimport\u001b[39;00m \u001b[39m*\u001b[39m  \u001b[39m# pylint: disable=wildcard-import\u001b[39;00m\n\u001b[1;32m---> <a href='file:///~/anaconda3/envs/pie/lib/site-packages/librosa/util/__init__.py?line=83'>84</a>\u001b[0m \u001b[39mfrom\u001b[39;00m \u001b[39m.\u001b[39;00m\u001b[39mfiles\u001b[39;00m \u001b[39mimport\u001b[39;00m \u001b[39m*\u001b[39m  \u001b[39m# pylint: disable=wildcard-import\u001b[39;00m\n\u001b[0;32m     <a href='file:///~/anaconda3/envs/pie/lib/site-packages/librosa/util/__init__.py?line=84'>85</a>\u001b[0m \u001b[39mfrom\u001b[39;00m \u001b[39m.\u001b[39;00m\u001b[39mmatching\u001b[39;00m \u001b[39mimport\u001b[39;00m \u001b[39m*\u001b[39m  \u001b[39m# pylint: disable=wildcard-import\u001b[39;00m\n\u001b[0;32m     <a href='file:///~/anaconda3/envs/pie/lib/site-packages/librosa/util/__init__.py?line=85'>86</a>\u001b[0m \u001b[39mfrom\u001b[39;00m \u001b[39m.\u001b[39;00m\u001b[39mdeprecation\u001b[39;00m \u001b[39mimport\u001b[39;00m \u001b[39m*\u001b[39m  \u001b[39m# pylint: disable=wildcard-import\u001b[39;00m\n",
      "File \u001b[1;32m~\\anaconda3\\envs\\pie\\lib\\site-packages\\librosa\\util\\files.py:28\u001b[0m, in \u001b[0;36m<module>\u001b[1;34m\u001b[0m\n\u001b[0;32m     <a href='file:///~/anaconda3/envs/pie/lib/site-packages/librosa/util/files.py?line=16'>17</a>\u001b[0m __all__ \u001b[39m=\u001b[39m [\n\u001b[0;32m     <a href='file:///~/anaconda3/envs/pie/lib/site-packages/librosa/util/files.py?line=17'>18</a>\u001b[0m     \u001b[39m\"\u001b[39m\u001b[39mexample_audio_file\u001b[39m\u001b[39m\"\u001b[39m,\n\u001b[0;32m     <a href='file:///~/anaconda3/envs/pie/lib/site-packages/librosa/util/files.py?line=18'>19</a>\u001b[0m     \u001b[39m\"\u001b[39m\u001b[39mfind_files\u001b[39m\u001b[39m\"\u001b[39m,\n\u001b[1;32m   (...)\u001b[0m\n\u001b[0;32m     <a href='file:///~/anaconda3/envs/pie/lib/site-packages/librosa/util/files.py?line=22'>23</a>\u001b[0m     \u001b[39m\"\u001b[39m\u001b[39mexample_info\u001b[39m\u001b[39m\"\u001b[39m,\n\u001b[0;32m     <a href='file:///~/anaconda3/envs/pie/lib/site-packages/librosa/util/files.py?line=23'>24</a>\u001b[0m ]\n\u001b[0;32m     <a href='file:///~/anaconda3/envs/pie/lib/site-packages/librosa/util/files.py?line=26'>27</a>\u001b[0m \u001b[39m# Instantiate the pooch\u001b[39;00m\n\u001b[1;32m---> <a href='file:///~/anaconda3/envs/pie/lib/site-packages/librosa/util/files.py?line=27'>28</a>\u001b[0m __data_path \u001b[39m=\u001b[39m os\u001b[39m.\u001b[39menviron\u001b[39m.\u001b[39mget(\u001b[39m\"\u001b[39m\u001b[39mLIBROSA_DATA_DIR\u001b[39m\u001b[39m\"\u001b[39m, pooch\u001b[39m.\u001b[39;49mos_cache(\u001b[39m\"\u001b[39;49m\u001b[39mlibrosa\u001b[39;49m\u001b[39m\"\u001b[39;49m))\n\u001b[0;32m     <a href='file:///~/anaconda3/envs/pie/lib/site-packages/librosa/util/files.py?line=28'>29</a>\u001b[0m __GOODBOY \u001b[39m=\u001b[39m pooch\u001b[39m.\u001b[39mcreate(\n\u001b[0;32m     <a href='file:///~/anaconda3/envs/pie/lib/site-packages/librosa/util/files.py?line=29'>30</a>\u001b[0m     __data_path, base_url\u001b[39m=\u001b[39m\u001b[39m\"\u001b[39m\u001b[39mhttps://librosa.org/data/audio/\u001b[39m\u001b[39m\"\u001b[39m, registry\u001b[39m=\u001b[39m\u001b[39mNone\u001b[39;00m\n\u001b[0;32m     <a href='file:///~/anaconda3/envs/pie/lib/site-packages/librosa/util/files.py?line=30'>31</a>\u001b[0m )\n\u001b[0;32m     <a href='file:///~/anaconda3/envs/pie/lib/site-packages/librosa/util/files.py?line=32'>33</a>\u001b[0m __GOODBOY\u001b[39m.\u001b[39mload_registry(\n\u001b[0;32m     <a href='file:///~/anaconda3/envs/pie/lib/site-packages/librosa/util/files.py?line=33'>34</a>\u001b[0m     resource_filename(\u001b[39m__name__\u001b[39m, \u001b[39mstr\u001b[39m(Path(\u001b[39m\"\u001b[39m\u001b[39mexample_data\u001b[39m\u001b[39m\"\u001b[39m) \u001b[39m/\u001b[39m \u001b[39m\"\u001b[39m\u001b[39mregistry.txt\u001b[39m\u001b[39m\"\u001b[39m))\n\u001b[0;32m     <a href='file:///~/anaconda3/envs/pie/lib/site-packages/librosa/util/files.py?line=34'>35</a>\u001b[0m )\n",
      "File \u001b[1;32m~\\anaconda3\\envs\\pie\\lib\\site-packages\\pooch\\utils.py:99\u001b[0m, in \u001b[0;36mos_cache\u001b[1;34m(project)\u001b[0m\n\u001b[0;32m     <a href='file:///~/anaconda3/envs/pie/lib/site-packages/pooch/utils.py?line=72'>73</a>\u001b[0m \u001b[39mdef\u001b[39;00m \u001b[39mos_cache\u001b[39m(project):\n\u001b[0;32m     <a href='file:///~/anaconda3/envs/pie/lib/site-packages/pooch/utils.py?line=73'>74</a>\u001b[0m     \u001b[39mr\u001b[39m\u001b[39m\"\"\"\u001b[39;00m\n\u001b[0;32m     <a href='file:///~/anaconda3/envs/pie/lib/site-packages/pooch/utils.py?line=74'>75</a>\u001b[0m \u001b[39m    Default cache location based on the operating system.\u001b[39;00m\n\u001b[0;32m     <a href='file:///~/anaconda3/envs/pie/lib/site-packages/pooch/utils.py?line=75'>76</a>\u001b[0m \n\u001b[1;32m   (...)\u001b[0m\n\u001b[0;32m     <a href='file:///~/anaconda3/envs/pie/lib/site-packages/pooch/utils.py?line=96'>97</a>\u001b[0m \n\u001b[0;32m     <a href='file:///~/anaconda3/envs/pie/lib/site-packages/pooch/utils.py?line=97'>98</a>\u001b[0m \u001b[39m    \"\"\"\u001b[39;00m\n\u001b[1;32m---> <a href='file:///~/anaconda3/envs/pie/lib/site-packages/pooch/utils.py?line=98'>99</a>\u001b[0m     \u001b[39mreturn\u001b[39;00m Path(appdirs\u001b[39m.\u001b[39;49muser_cache_dir(project))\n",
      "File \u001b[1;32m~\\anaconda3\\envs\\pie\\lib\\site-packages\\appdirs.py:293\u001b[0m, in \u001b[0;36muser_cache_dir\u001b[1;34m(appname, appauthor, version, opinion)\u001b[0m\n\u001b[0;32m    <a href='file:///~/anaconda3/envs/pie/lib/site-packages/appdirs.py?line=290'>291</a>\u001b[0m \u001b[39mif\u001b[39;00m appauthor \u001b[39mis\u001b[39;00m \u001b[39mNone\u001b[39;00m:\n\u001b[0;32m    <a href='file:///~/anaconda3/envs/pie/lib/site-packages/appdirs.py?line=291'>292</a>\u001b[0m     appauthor \u001b[39m=\u001b[39m appname\n\u001b[1;32m--> <a href='file:///~/anaconda3/envs/pie/lib/site-packages/appdirs.py?line=292'>293</a>\u001b[0m path \u001b[39m=\u001b[39m os\u001b[39m.\u001b[39mpath\u001b[39m.\u001b[39mnormpath(_get_win_folder(\u001b[39m\"\u001b[39;49m\u001b[39mCSIDL_LOCAL_APPDATA\u001b[39;49m\u001b[39m\"\u001b[39;49m))\n\u001b[0;32m    <a href='file:///~/anaconda3/envs/pie/lib/site-packages/appdirs.py?line=293'>294</a>\u001b[0m \u001b[39mif\u001b[39;00m appname:\n\u001b[0;32m    <a href='file:///~/anaconda3/envs/pie/lib/site-packages/appdirs.py?line=294'>295</a>\u001b[0m     \u001b[39mif\u001b[39;00m appauthor \u001b[39mis\u001b[39;00m \u001b[39mnot\u001b[39;00m \u001b[39mFalse\u001b[39;00m:\n",
      "File \u001b[1;32m~\\anaconda3\\envs\\pie\\lib\\site-packages\\appdirs.py:481\u001b[0m, in \u001b[0;36m_get_win_folder_with_pywin32\u001b[1;34m(csidl_name)\u001b[0m\n\u001b[0;32m    <a href='file:///~/anaconda3/envs/pie/lib/site-packages/appdirs.py?line=478'>479</a>\u001b[0m \u001b[39mdef\u001b[39;00m \u001b[39m_get_win_folder_with_pywin32\u001b[39m(csidl_name):\n\u001b[0;32m    <a href='file:///~/anaconda3/envs/pie/lib/site-packages/appdirs.py?line=479'>480</a>\u001b[0m     \u001b[39mfrom\u001b[39;00m \u001b[39mwin32com\u001b[39;00m\u001b[39m.\u001b[39;00m\u001b[39mshell\u001b[39;00m \u001b[39mimport\u001b[39;00m shellcon, shell\n\u001b[1;32m--> <a href='file:///~/anaconda3/envs/pie/lib/site-packages/appdirs.py?line=480'>481</a>\u001b[0m     \u001b[39mdir\u001b[39m \u001b[39m=\u001b[39m shell\u001b[39m.\u001b[39;49mSHGetFolderPath(\u001b[39m0\u001b[39;49m, \u001b[39mgetattr\u001b[39;49m(shellcon, csidl_name), \u001b[39m0\u001b[39;49m, \u001b[39m0\u001b[39;49m)\n\u001b[0;32m    <a href='file:///~/anaconda3/envs/pie/lib/site-packages/appdirs.py?line=481'>482</a>\u001b[0m     \u001b[39m# Try to make this a unicode path because SHGetFolderPath does\u001b[39;00m\n\u001b[0;32m    <a href='file:///~/anaconda3/envs/pie/lib/site-packages/appdirs.py?line=482'>483</a>\u001b[0m     \u001b[39m# not return unicode strings when there is unicode data in the\u001b[39;00m\n\u001b[0;32m    <a href='file:///~/anaconda3/envs/pie/lib/site-packages/appdirs.py?line=483'>484</a>\u001b[0m     \u001b[39m# path.\u001b[39;00m\n\u001b[0;32m    <a href='file:///~/anaconda3/envs/pie/lib/site-packages/appdirs.py?line=484'>485</a>\u001b[0m     \u001b[39mtry\u001b[39;00m:\n",
      "\u001b[1;31mKeyboardInterrupt\u001b[0m: "
     ]
    }
   ],
   "source": [
    "import pandas as pd\n",
    "import pydub\n",
    "from tqdm import tqdm\n",
    "import os\n",
    "from utils import get_end_from_start, get_start_end_from_file\n",
    "from data import read_interview\n",
    "\n",
    "pydub.AudioSegment.converter = r\"C:/Users/Kinza/anaconda3/envs/pie/Library/bin/ffmpeg.exe\" #CHANGE THIS"
   ]
  },
  {
   "cell_type": "code",
   "execution_count": null,
   "metadata": {},
   "outputs": [],
   "source": [
    "def load_interviews(video_folder,startend_file) :\n",
    "    '''Loads the audios from each interview question.\n",
    "    Arguments:\n",
    "        video_folder : str. The name of the folder containing mp4 videos.\n",
    "        startend_file : str. The name of the file containing the video informations. \n",
    "            Must contain columns 'mail' and 'time'.\n",
    "    Returns a list of Interview objects\n",
    "    '''\n",
    "    filenames = tqdm(os.listdir(video_folder))\n",
    "    df_startend = get_start_end_from_file(startend_file)\n",
    "    interviews = list(map(lambda f : read_interview(video_folder,df_startend,f), filenames))\n",
    "    return [item for sublist in interviews for item in sublist]"
   ]
  },
  {
   "cell_type": "code",
   "execution_count": null,
   "metadata": {},
   "outputs": [
    {
     "name": "stderr",
     "output_type": "stream",
     "text": [
      "  0%|          | 0/1 [00:00<?, ?it/s]"
     ]
    },
    {
     "name": "stdout",
     "output_type": "stream",
     "text": [
      "alexis.przybylak@student.isae-supaero.fr.mp4\n"
     ]
    },
    {
     "name": "stderr",
     "output_type": "stream",
     "text": [
      "C:\\Users\\Kinza\\anaconda3\\envs\\pie\\lib\\site-packages\\librosa\\core\\convert.py:1350: RuntimeWarning: divide by zero encountered in log10\n",
      "  + 2 * np.log10(f_sq)\n",
      "C:\\Users\\Kinza\\anaconda3\\envs\\pie\\lib\\site-packages\\torch\\autocast_mode.py:141: UserWarning: User provided device_type of 'cuda', but CUDA is not available. Disabling\n",
      "  warnings.warn('User provided device_type of \\'cuda\\', but CUDA is not available. Disabling')\n"
     ]
    },
    {
     "name": "stdout",
     "output_type": "stream",
     "text": [
      "Empty DataFrame\n",
      "Columns: []\n",
      "Index: []\n"
     ]
    },
    {
     "name": "stderr",
     "output_type": "stream",
     "text": [
      "C:\\Users\\Kinza\\anaconda3\\envs\\pie\\lib\\site-packages\\librosa\\core\\convert.py:1350: RuntimeWarning: divide by zero encountered in log10\n",
      "  + 2 * np.log10(f_sq)\n",
      "C:\\Users\\Kinza\\anaconda3\\envs\\pie\\lib\\site-packages\\torch\\autocast_mode.py:141: UserWarning: User provided device_type of 'cuda', but CUDA is not available. Disabling\n",
      "  warnings.warn('User provided device_type of \\'cuda\\', but CUDA is not available. Disabling')\n"
     ]
    },
    {
     "name": "stdout",
     "output_type": "stream",
     "text": [
      "Empty DataFrame\n",
      "Columns: []\n",
      "Index: []\n"
     ]
    },
    {
     "name": "stderr",
     "output_type": "stream",
     "text": [
      "C:\\Users\\Kinza\\anaconda3\\envs\\pie\\lib\\site-packages\\librosa\\core\\convert.py:1350: RuntimeWarning: divide by zero encountered in log10\n",
      "  + 2 * np.log10(f_sq)\n",
      "C:\\Users\\Kinza\\anaconda3\\envs\\pie\\lib\\site-packages\\torch\\autocast_mode.py:141: UserWarning: User provided device_type of 'cuda', but CUDA is not available. Disabling\n",
      "  warnings.warn('User provided device_type of \\'cuda\\', but CUDA is not available. Disabling')\n",
      "100%|██████████| 1/1 [03:51<00:00, 231.79s/it]"
     ]
    },
    {
     "name": "stdout",
     "output_type": "stream",
     "text": [
      "Empty DataFrame\n",
      "Columns: []\n",
      "Index: []\n"
     ]
    },
    {
     "name": "stderr",
     "output_type": "stream",
     "text": [
      "\n"
     ]
    }
   ],
   "source": [
    "video_folder = 'videos/'\n",
    "df_name = 'notes_entretiens_all.xlsx'\n",
    "\n",
    "filenames = tqdm(os.listdir(video_folder))\n",
    "df_startend = get_start_end_from_file(df_name)\n",
    "#audios = list(map(lambda f : read_interview(video_folder,df_startend,f), filenames))\n",
    "\n",
    "interviews = []\n",
    "for f in filenames : \n",
    "    interviews.append(read_interview(video_folder,df_startend,f))"
   ]
  },
  {
   "cell_type": "code",
   "execution_count": null,
   "metadata": {},
   "outputs": [],
   "source": [
    "from data import get_features\n",
    "\n",
    "feats = [item for sublist in interviews for item in sublist]\n",
    "feats = get_features(feats)"
   ]
  },
  {
   "cell_type": "code",
   "execution_count": null,
   "metadata": {},
   "outputs": [],
   "source": [
    "feats.to_csv(\"audio_lexic.csv\")"
   ]
  }
 ],
 "metadata": {
  "interpreter": {
   "hash": "22481484a5f7e79f314e40293bb4bf1039ec3aa5f1615d995a7f4d567969c466"
  },
  "kernelspec": {
   "display_name": "Python 3.8.12 ('pie')",
   "language": "python",
   "name": "python3"
  },
  "language_info": {
   "codemirror_mode": {
    "name": "ipython",
    "version": 3
   },
   "file_extension": ".py",
   "mimetype": "text/x-python",
   "name": "python",
   "nbconvert_exporter": "python",
   "pygments_lexer": "ipython3",
   "version": "3.8.12"
  },
  "orig_nbformat": 4
 },
 "nbformat": 4,
 "nbformat_minor": 2
}
