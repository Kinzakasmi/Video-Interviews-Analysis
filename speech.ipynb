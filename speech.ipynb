{
 "cells": [
  {
   "cell_type": "markdown",
   "metadata": {},
   "source": [
    "conda install numpy  \n",
    "conda install pandas  \n",
    "conda install matplotlib  \n",
    "pip install SpeechRecognition  \n",
    "pip install -U scikit-learn  \n",
    "conda install -c anaconda nltk"
   ]
  },
  {
   "cell_type": "code",
   "execution_count": 1,
   "metadata": {},
   "outputs": [],
   "source": [
    "import pydub\n",
    "import pandas as pd\n",
    "from tqdm import tqdm\n",
    "\n",
    "pydub.AudioSegment.converter = r\"C:/Users/Kinza/anaconda3/envs/pie/Library/bin/ffmpeg.exe\" #CHANGE THIS"
   ]
  },
  {
   "cell_type": "markdown",
   "metadata": {},
   "source": [
    "# Data loading"
   ]
  },
  {
   "cell_type": "code",
   "execution_count": null,
   "metadata": {},
   "outputs": [],
   "source": [
    "def get_end_from_start(df_mail):\n",
    "    end             = df_mail.iloc[1:,:]['start'].copy()\n",
    "    end[len(end)+1] = -1\n",
    "    df_mail['end']  = end.values\n",
    "    return df_mail\n",
    "\n",
    "def get_start_end_from_file(file):\n",
    "    #Get start and end times\n",
    "    df = pd.read_excel(file)\n",
    "    df = df.rename(columns={'time':'start'}) \n",
    "    df['start'] = df['start']*1000 #in ms\n",
    "\n",
    "    df = df.groupby('mail').apply(get_end_from_start)\n",
    "    return df\n",
    "\n",
    "def load_audios(video_folder,startend_file) :\n",
    "    '''Loads the audios from each interview question.\n",
    "    Arguments:\n",
    "        video_folder : str. The name of the folder containing mp4 videos.\n",
    "        startend_file : str. The name of the file containing the video informations. \n",
    "            Must contain columns 'mail' and 'time'.\n",
    "    Returns a list of audios\n",
    "    '''\n",
    "    filenames = tqdm(os.listdir(video_folder))\n",
    "    df_startend = get_start_end_from_file(startend_file)\n",
    "    audios = list(map(lambda f : split_questions(video_folder,df_startend,f), filenames))\n",
    "    return [item for sublist in audios for item in sublist]"
   ]
  },
  {
   "cell_type": "code",
   "execution_count": 3,
   "metadata": {},
   "outputs": [
    {
     "name": "stderr",
     "output_type": "stream",
     "text": [
      "100%|██████████| 4/4 [00:02<00:00,  1.37it/s]\n"
     ]
    }
   ],
   "source": [
    "from audio_utils import split_questions\n",
    "\n",
    "video_folder = 'videos/'\n",
    "df_name = 'test.xlsx'\n",
    "\n",
    "audios = load_audios(video_folder,df_name)"
   ]
  },
  {
   "cell_type": "markdown",
   "metadata": {},
   "source": [
    "# Lexical feature extraction"
   ]
  },
  {
   "cell_type": "code",
   "execution_count": 15,
   "metadata": {},
   "outputs": [],
   "source": [
    "from speech_utils import speech_recognition\n",
    "\n",
    "audios[0].export('temp.wav',format=\"wav\")\n",
    "result = speech_recognition('temp.wav')"
   ]
  },
  {
   "cell_type": "code",
   "execution_count": 16,
   "metadata": {},
   "outputs": [],
   "source": [
    "from speech_feats_extract import FrenchStemTokenizer\n",
    "from sklearn.feature_extraction.text import CountVectorizer\n",
    "\n",
    "#WORD2VEC"
   ]
  },
  {
   "cell_type": "code",
   "execution_count": 17,
   "metadata": {},
   "outputs": [
    {
     "name": "stderr",
     "output_type": "stream",
     "text": [
      "C:\\Users\\Kinza\\anaconda3\\envs\\pie\\lib\\site-packages\\sklearn\\utils\\deprecation.py:87: FutureWarning: Function get_feature_names is deprecated; get_feature_names is deprecated in 1.0 and will be removed in 1.2. Please use get_feature_names_out instead.\n",
      "  warnings.warn(msg, category=FutureWarning)\n"
     ]
    },
    {
     "data": {
      "text/plain": [
       "['bien',\n",
       " 'chos',\n",
       " 'combat',\n",
       " 'doit',\n",
       " 'gestion',\n",
       " 'moment',\n",
       " 'pass',\n",
       " 'pet',\n",
       " 'plus',\n",
       " 'pos',\n",
       " 'pratiqu',\n",
       " 'profit',\n",
       " 'si',\n",
       " 'sport',\n",
       " 'station',\n",
       " 'vi']"
      ]
     },
     "execution_count": 17,
     "metadata": {},
     "output_type": "execute_result"
    }
   ],
   "source": [
    "countvect = CountVectorizer(tokenizer=FrenchStemTokenizer(remove_non_words=True))\n",
    "text_fts = countvect.fit_transform([result])\n",
    "feat2word = {v: k for k, v in countvect.vocabulary_.items()}\n",
    "\n",
    "countvect.get_feature_names()"
   ]
  }
 ],
 "metadata": {
  "interpreter": {
   "hash": "22481484a5f7e79f314e40293bb4bf1039ec3aa5f1615d995a7f4d567969c466"
  },
  "kernelspec": {
   "display_name": "Python 3.8.5 64-bit ('pie': conda)",
   "language": "python",
   "name": "python3"
  },
  "language_info": {
   "codemirror_mode": {
    "name": "ipython",
    "version": 3
   },
   "file_extension": ".py",
   "mimetype": "text/x-python",
   "name": "python",
   "nbconvert_exporter": "python",
   "pygments_lexer": "ipython3",
   "version": "3.8.5"
  },
  "orig_nbformat": 4
 },
 "nbformat": 4,
 "nbformat_minor": 2
}
