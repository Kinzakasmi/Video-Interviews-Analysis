{
 "cells": [
  {
   "cell_type": "code",
   "execution_count": 1,
   "metadata": {},
   "outputs": [],
   "source": [
    "import pandas as pd\n",
    "import pydub\n",
    "import os\n",
    "import tqdm\n",
    "from utils import get_end_from_start, get_start_end_from_file\n",
    "from data import read_interview, get_features\n",
    "import matplotlib.pyplot as plt\n",
    "import numpy as np\n",
    "import pickle\n",
    "from lime import lime_tabular    \n",
    "import dill\n",
    "\n",
    "pydub.AudioSegment.converter = r\"C:/Users/Kinza/anaconda3/envs/pie/Library/bin/ffmpeg.exe\" #CHANGE THIS"
   ]
  },
  {
   "cell_type": "markdown",
   "metadata": {},
   "source": [
    "# Load videos and extract features"
   ]
  },
  {
   "cell_type": "code",
   "execution_count": null,
   "metadata": {},
   "outputs": [],
   "source": [
    "# Load videos and calculate feats\n",
    "video_folder = 'predict/'\n",
    "df_name = 'times.xlsx'  #Name of an Excel containing columns 'email','question','start' and 'end'\n",
    "\n",
    "filenames = tqdm(os.listdir(video_folder))\n",
    "df_startend = get_start_end_from_file(df_name)\n",
    "\n",
    "interviews = []\n",
    "for f in filenames : \n",
    "    interviews.append(read_interview(video_folder,df_startend,f))\n",
    "\n",
    "# Tidy feats and save to csv so you don't have to recalculate everything\n",
    "feats = [item for sublist in interviews for item in sublist]\n",
    "feats = get_features(feats)\n",
    "feats.to_csv(\"new_features.csv\")"
   ]
  },
  {
   "cell_type": "code",
   "execution_count": 2,
   "metadata": {},
   "outputs": [],
   "source": [
    "feats = pd.read_csv('audio_lexic.csv')\n",
    "feats = feats.set_index('id')"
   ]
  },
  {
   "cell_type": "code",
   "execution_count": 3,
   "metadata": {},
   "outputs": [
    {
     "data": {
      "text/html": [
       "<div>\n",
       "<style scoped>\n",
       "    .dataframe tbody tr th:only-of-type {\n",
       "        vertical-align: middle;\n",
       "    }\n",
       "\n",
       "    .dataframe tbody tr th {\n",
       "        vertical-align: top;\n",
       "    }\n",
       "\n",
       "    .dataframe thead th {\n",
       "        text-align: right;\n",
       "    }\n",
       "</style>\n",
       "<table border=\"1\" class=\"dataframe\">\n",
       "  <thead>\n",
       "    <tr style=\"text-align: right;\">\n",
       "      <th></th>\n",
       "      <th>voicedcount</th>\n",
       "      <th>npause</th>\n",
       "      <th>originaldur</th>\n",
       "      <th>intensity_duration</th>\n",
       "      <th>speakingrate</th>\n",
       "      <th>articulationrate</th>\n",
       "      <th>asd</th>\n",
       "      <th>nb_pauses</th>\n",
       "      <th>mean_pauses</th>\n",
       "      <th>max_pauses</th>\n",
       "      <th>...</th>\n",
       "      <th>book_med</th>\n",
       "      <th>book_std</th>\n",
       "      <th>book_95c</th>\n",
       "      <th>book_max</th>\n",
       "      <th>phon_min</th>\n",
       "      <th>phon_mean</th>\n",
       "      <th>phon_med</th>\n",
       "      <th>phon_std</th>\n",
       "      <th>phon_95c</th>\n",
       "      <th>phon_max</th>\n",
       "    </tr>\n",
       "    <tr>\n",
       "      <th>id</th>\n",
       "      <th></th>\n",
       "      <th></th>\n",
       "      <th></th>\n",
       "      <th></th>\n",
       "      <th></th>\n",
       "      <th></th>\n",
       "      <th></th>\n",
       "      <th></th>\n",
       "      <th></th>\n",
       "      <th></th>\n",
       "      <th></th>\n",
       "      <th></th>\n",
       "      <th></th>\n",
       "      <th></th>\n",
       "      <th></th>\n",
       "      <th></th>\n",
       "      <th></th>\n",
       "      <th></th>\n",
       "      <th></th>\n",
       "      <th></th>\n",
       "      <th></th>\n",
       "    </tr>\n",
       "  </thead>\n",
       "  <tbody>\n",
       "    <tr>\n",
       "      <th>alexis.przybylak@student.isae-supaero.fr_1</th>\n",
       "      <td>457.0</td>\n",
       "      <td>26.0</td>\n",
       "      <td>80.00</td>\n",
       "      <td>80.00</td>\n",
       "      <td>5.712500</td>\n",
       "      <td>7.409209</td>\n",
       "      <td>0.134967</td>\n",
       "      <td>0.024096</td>\n",
       "      <td>0.030120</td>\n",
       "      <td>0.036145</td>\n",
       "      <td>...</td>\n",
       "      <td>128.990</td>\n",
       "      <td>6864.873575</td>\n",
       "      <td>18490.5700</td>\n",
       "      <td>38928.92</td>\n",
       "      <td>1</td>\n",
       "      <td>3.947368</td>\n",
       "      <td>3.0</td>\n",
       "      <td>2.289726</td>\n",
       "      <td>8.2</td>\n",
       "      <td>10</td>\n",
       "    </tr>\n",
       "    <tr>\n",
       "      <th>alexis.przybylak@student.isae-supaero.fr_2</th>\n",
       "      <td>395.0</td>\n",
       "      <td>18.0</td>\n",
       "      <td>67.90</td>\n",
       "      <td>67.90</td>\n",
       "      <td>5.817378</td>\n",
       "      <td>7.254628</td>\n",
       "      <td>0.137843</td>\n",
       "      <td>0.028571</td>\n",
       "      <td>0.028571</td>\n",
       "      <td>0.028571</td>\n",
       "      <td>...</td>\n",
       "      <td>72.565</td>\n",
       "      <td>5616.306821</td>\n",
       "      <td>12072.3295</td>\n",
       "      <td>38928.92</td>\n",
       "      <td>1</td>\n",
       "      <td>4.326087</td>\n",
       "      <td>4.0</td>\n",
       "      <td>2.596439</td>\n",
       "      <td>9.0</td>\n",
       "      <td>12</td>\n",
       "    </tr>\n",
       "    <tr>\n",
       "      <th>alexis.przybylak@student.isae-supaero.fr_3</th>\n",
       "      <td>530.0</td>\n",
       "      <td>52.0</td>\n",
       "      <td>108.74</td>\n",
       "      <td>108.74</td>\n",
       "      <td>4.874011</td>\n",
       "      <td>7.246773</td>\n",
       "      <td>0.137992</td>\n",
       "      <td>0.018182</td>\n",
       "      <td>0.018182</td>\n",
       "      <td>0.018182</td>\n",
       "      <td>...</td>\n",
       "      <td>121.280</td>\n",
       "      <td>4936.957705</td>\n",
       "      <td>8898.5215</td>\n",
       "      <td>38928.92</td>\n",
       "      <td>1</td>\n",
       "      <td>3.475000</td>\n",
       "      <td>3.0</td>\n",
       "      <td>2.061401</td>\n",
       "      <td>8.0</td>\n",
       "      <td>11</td>\n",
       "    </tr>\n",
       "    <tr>\n",
       "      <th>anna.gounot@student.isae-supaero.fr_1</th>\n",
       "      <td>512.0</td>\n",
       "      <td>23.0</td>\n",
       "      <td>90.00</td>\n",
       "      <td>90.00</td>\n",
       "      <td>5.688889</td>\n",
       "      <td>6.786850</td>\n",
       "      <td>0.147344</td>\n",
       "      <td>0.000000</td>\n",
       "      <td>0.000000</td>\n",
       "      <td>0.000000</td>\n",
       "      <td>...</td>\n",
       "      <td>66.150</td>\n",
       "      <td>4554.970404</td>\n",
       "      <td>8732.5700</td>\n",
       "      <td>38928.92</td>\n",
       "      <td>1</td>\n",
       "      <td>4.074534</td>\n",
       "      <td>3.0</td>\n",
       "      <td>2.378874</td>\n",
       "      <td>9.0</td>\n",
       "      <td>13</td>\n",
       "    </tr>\n",
       "    <tr>\n",
       "      <th>anna.gounot@student.isae-supaero.fr_2</th>\n",
       "      <td>498.0</td>\n",
       "      <td>26.0</td>\n",
       "      <td>87.94</td>\n",
       "      <td>87.94</td>\n",
       "      <td>5.662952</td>\n",
       "      <td>6.713581</td>\n",
       "      <td>0.148952</td>\n",
       "      <td>0.022222</td>\n",
       "      <td>0.033333</td>\n",
       "      <td>0.033333</td>\n",
       "      <td>...</td>\n",
       "      <td>74.390</td>\n",
       "      <td>4285.982934</td>\n",
       "      <td>8256.2630</td>\n",
       "      <td>38928.92</td>\n",
       "      <td>1</td>\n",
       "      <td>3.748634</td>\n",
       "      <td>3.0</td>\n",
       "      <td>2.073034</td>\n",
       "      <td>7.0</td>\n",
       "      <td>12</td>\n",
       "    </tr>\n",
       "  </tbody>\n",
       "</table>\n",
       "<p>5 rows × 181 columns</p>\n",
       "</div>"
      ],
      "text/plain": [
       "                                            voicedcount  npause  originaldur  \\\n",
       "id                                                                             \n",
       "alexis.przybylak@student.isae-supaero.fr_1        457.0    26.0        80.00   \n",
       "alexis.przybylak@student.isae-supaero.fr_2        395.0    18.0        67.90   \n",
       "alexis.przybylak@student.isae-supaero.fr_3        530.0    52.0       108.74   \n",
       "anna.gounot@student.isae-supaero.fr_1             512.0    23.0        90.00   \n",
       "anna.gounot@student.isae-supaero.fr_2             498.0    26.0        87.94   \n",
       "\n",
       "                                            intensity_duration  speakingrate  \\\n",
       "id                                                                             \n",
       "alexis.przybylak@student.isae-supaero.fr_1               80.00      5.712500   \n",
       "alexis.przybylak@student.isae-supaero.fr_2               67.90      5.817378   \n",
       "alexis.przybylak@student.isae-supaero.fr_3              108.74      4.874011   \n",
       "anna.gounot@student.isae-supaero.fr_1                    90.00      5.688889   \n",
       "anna.gounot@student.isae-supaero.fr_2                    87.94      5.662952   \n",
       "\n",
       "                                            articulationrate       asd  \\\n",
       "id                                                                       \n",
       "alexis.przybylak@student.isae-supaero.fr_1          7.409209  0.134967   \n",
       "alexis.przybylak@student.isae-supaero.fr_2          7.254628  0.137843   \n",
       "alexis.przybylak@student.isae-supaero.fr_3          7.246773  0.137992   \n",
       "anna.gounot@student.isae-supaero.fr_1               6.786850  0.147344   \n",
       "anna.gounot@student.isae-supaero.fr_2               6.713581  0.148952   \n",
       "\n",
       "                                            nb_pauses  mean_pauses  \\\n",
       "id                                                                   \n",
       "alexis.przybylak@student.isae-supaero.fr_1   0.024096     0.030120   \n",
       "alexis.przybylak@student.isae-supaero.fr_2   0.028571     0.028571   \n",
       "alexis.przybylak@student.isae-supaero.fr_3   0.018182     0.018182   \n",
       "anna.gounot@student.isae-supaero.fr_1        0.000000     0.000000   \n",
       "anna.gounot@student.isae-supaero.fr_2        0.022222     0.033333   \n",
       "\n",
       "                                            max_pauses  ...  book_med  \\\n",
       "id                                                      ...             \n",
       "alexis.przybylak@student.isae-supaero.fr_1    0.036145  ...   128.990   \n",
       "alexis.przybylak@student.isae-supaero.fr_2    0.028571  ...    72.565   \n",
       "alexis.przybylak@student.isae-supaero.fr_3    0.018182  ...   121.280   \n",
       "anna.gounot@student.isae-supaero.fr_1         0.000000  ...    66.150   \n",
       "anna.gounot@student.isae-supaero.fr_2         0.033333  ...    74.390   \n",
       "\n",
       "                                               book_std    book_95c  book_max  \\\n",
       "id                                                                              \n",
       "alexis.przybylak@student.isae-supaero.fr_1  6864.873575  18490.5700  38928.92   \n",
       "alexis.przybylak@student.isae-supaero.fr_2  5616.306821  12072.3295  38928.92   \n",
       "alexis.przybylak@student.isae-supaero.fr_3  4936.957705   8898.5215  38928.92   \n",
       "anna.gounot@student.isae-supaero.fr_1       4554.970404   8732.5700  38928.92   \n",
       "anna.gounot@student.isae-supaero.fr_2       4285.982934   8256.2630  38928.92   \n",
       "\n",
       "                                            phon_min  phon_mean  phon_med  \\\n",
       "id                                                                          \n",
       "alexis.przybylak@student.isae-supaero.fr_1         1   3.947368       3.0   \n",
       "alexis.przybylak@student.isae-supaero.fr_2         1   4.326087       4.0   \n",
       "alexis.przybylak@student.isae-supaero.fr_3         1   3.475000       3.0   \n",
       "anna.gounot@student.isae-supaero.fr_1              1   4.074534       3.0   \n",
       "anna.gounot@student.isae-supaero.fr_2              1   3.748634       3.0   \n",
       "\n",
       "                                            phon_std  phon_95c  phon_max  \n",
       "id                                                                        \n",
       "alexis.przybylak@student.isae-supaero.fr_1  2.289726       8.2        10  \n",
       "alexis.przybylak@student.isae-supaero.fr_2  2.596439       9.0        12  \n",
       "alexis.przybylak@student.isae-supaero.fr_3  2.061401       8.0        11  \n",
       "anna.gounot@student.isae-supaero.fr_1       2.378874       9.0        13  \n",
       "anna.gounot@student.isae-supaero.fr_2       2.073034       7.0        12  \n",
       "\n",
       "[5 rows x 181 columns]"
      ]
     },
     "execution_count": 3,
     "metadata": {},
     "output_type": "execute_result"
    }
   ],
   "source": [
    "feats.head()"
   ]
  },
  {
   "cell_type": "markdown",
   "metadata": {},
   "source": [
    "# Visualize features"
   ]
  },
  {
   "cell_type": "code",
   "execution_count": 4,
   "metadata": {},
   "outputs": [
    {
     "name": "stderr",
     "output_type": "stream",
     "text": [
      "c:\\Users\\Kinza\\Documents\\GitHub\\Video-interviews-analysis\\visu.py:69: UserWarning: Matplotlib is currently using module://matplotlib_inline.backend_inline, which is a non-GUI backend, so cannot show the figure.\n",
      "  fig.show()\n"
     ]
    },
    {
     "data": {
      "image/png": "[encoded data removed]",
      "text/plain": [
       "<Figure size 1440x144 with 1 Axes>"
      ]
     },
     "metadata": {},
     "output_type": "display_data"
    }
   ],
   "source": [
    "from visu import *\n",
    "fts = feats.iloc[0,0]\n",
    "heatmap_vizualisation(fts,\"voiced count\")"
   ]
  },
  {
   "cell_type": "code",
   "execution_count": 16,
   "metadata": {},
   "outputs": [
    {
     "data": {
      "application/vnd.jupyter.widget-view+json": {
       "model_id": "bf8cc308ea5d4f1baf9f122d8457710b",
       "version_major": 2,
       "version_minor": 0
      },
      "text/plain": [
       "interactive(children=(Select(description='Interview', layout=Layout(display='flex', height='80px', width='50%'…"
      ]
     },
     "metadata": {},
     "output_type": "display_data"
    }
   ],
   "source": [
    "import ipywidgets as widgets\n",
    "from ipywidgets import Layout\n",
    "import seaborn as sns\n",
    "\n",
    "def print_boxplot(email,variable):\n",
    "        var = round(feats.loc[email,variable],3)\n",
    "\n",
    "        sns.set_theme(style=\"whitegrid\")\n",
    "        ax = sns.boxplot(y=variable, data=feats)\n",
    "        ax.axhline(var,c='r')\n",
    "\n",
    "        plt.text(-0.3, var*1.005, var, horizontalalignment='left', size='small', color='red', weight='normal')\n",
    "\n",
    "email = widgets.Select(\n",
    "    options = feats.index.tolist(),\n",
    "    description='Interview',\n",
    "    disabled=False,\n",
    "    layout = Layout(width='50%', height='80px', display='flex')\n",
    ")\n",
    "\n",
    "variable = widgets.Select(\n",
    "    options = feats.columns.tolist(),\n",
    "    description='Variable',\n",
    "    disabled=False,\n",
    "    layout = Layout(width='50%', height='80px', display='flex')\n",
    ")  \n",
    "\n",
    "widgets.interactive(print_boxplot,email=email,variable=variable)\n"
   ]
  },
  {
   "cell_type": "markdown",
   "metadata": {},
   "source": [
    "# Load saved model and explainer"
   ]
  },
  {
   "cell_type": "code",
   "execution_count": 11,
   "metadata": {},
   "outputs": [],
   "source": [
    "#Lime works only with single output \n",
    "\n",
    "model_name = 'RF_single_output'\n",
    "loaded_model = pickle.load(open(model_name, 'rb'))\n",
    "\n",
    "with open('explainer', 'rb') as f:\n",
    "    explainer = dill.load(f)"
   ]
  },
  {
   "cell_type": "markdown",
   "metadata": {},
   "source": [
    "# Predict scores"
   ]
  },
  {
   "cell_type": "code",
   "execution_count": 6,
   "metadata": {},
   "outputs": [],
   "source": [
    "predictions = loaded_model.predict(feats)\n",
    "#predictions = [tuple(p) for p in predictions]\n",
    "predictions"
   ]
  },
  {
   "cell_type": "markdown",
   "metadata": {},
   "source": [
    "# Explain results"
   ]
  },
  {
   "cell_type": "code",
   "execution_count": 12,
   "metadata": {},
   "outputs": [],
   "source": [
    "# asking for explanation for LIME model\n",
    "\n",
    "i = np.random.randint(0, feats.shape[0]) #Choose the video to explain, by default it explains a random video\n",
    "\n",
    "exp = explainer.explain_instance(feats.iloc[i,:], loaded_model.predict_proba, top_labels=1)\n",
    "exp.show_in_notebook(show_table=True, show_all=False)"
   ]
  }
 ],
 "metadata": {
  "interpreter": {
   "hash": "22481484a5f7e79f314e40293bb4bf1039ec3aa5f1615d995a7f4d567969c466"
  },
  "kernelspec": {
   "display_name": "Python 3.8.12 ('pie')",
   "language": "python",
   "name": "python3"
  },
  "language_info": {
   "codemirror_mode": {
    "name": "ipython",
    "version": 3
   },
   "file_extension": ".py",
   "mimetype": "text/x-python",
   "name": "python",
   "nbconvert_exporter": "python",
   "pygments_lexer": "ipython3",
   "version": "3.8.12"
  },
  "orig_nbformat": 4
 },
 "nbformat": 4,
 "nbformat_minor": 2
}
