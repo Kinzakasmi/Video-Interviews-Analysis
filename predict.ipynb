{
 "cells": [
  {
   "cell_type": "code",
   "execution_count": null,
   "metadata": {},
   "outputs": [],
   "source": [
    "import pandas as pd\n",
    "import pydub\n",
    "import os\n",
    "import tqdm\n",
    "from utils import get_end_from_start, get_start_end_from_file\n",
    "from data import read_interview, get_features\n",
    "import matplotlib.pyplot as plt\n",
    "import numpy as np\n",
    "import pickle\n",
    "from lime import lime_tabular    \n",
    "import dill\n",
    "\n",
    "pydub.AudioSegment.converter = r\"C:/Users/Kinza/anaconda3/envs/pie/Library/bin/ffmpeg.exe\" #CHANGE THIS"
   ]
  },
  {
   "cell_type": "markdown",
   "metadata": {},
   "source": [
    "# Load videos and extract features"
   ]
  },
  {
   "cell_type": "code",
   "execution_count": null,
   "metadata": {},
   "outputs": [],
   "source": [
    "# Load videos and calculate feats\n",
    "video_folder = 'predict/' #CHANGE THIS. Name of the folder containing videos.\n",
    "df_name = 'data/times.xlsx'  #CHANGE THIS. Name of an Excel containing columns 'email','question','start' and 'end'\n",
    "output_file = \"data/audio_lexic.csv\" # CHANGE THIS.\n",
    "\n",
    "RECALC_FEATS = False #CHANGE THIS TO TRUE IF YOU HAVE NEW VIDEOS\n",
    "\n",
    "if RECALC_FEATS:\n",
    "    filenames = tqdm(os.listdir(video_folder))\n",
    "    df_startend = get_start_end_from_file(df_name)\n",
    "\n",
    "    interviews = []\n",
    "    for f in filenames : \n",
    "        interviews.append(read_interview(video_folder,df_startend,f))\n",
    "\n",
    "    # Tidy feats and save to csv so you don't have to recalculate everything\n",
    "    feats = [item for sublist in interviews for item in sublist]\n",
    "    feats = get_features(feats)\n",
    "    feats.to_csv(output_file)\n",
    "else:\n",
    "    feats = pd.read_csv(output_file)\n",
    "    feats = feats.set_index('id')"
   ]
  },
  {
   "cell_type": "code",
   "execution_count": null,
   "metadata": {},
   "outputs": [],
   "source": [
    "feats.head()"
   ]
  },
  {
   "cell_type": "markdown",
   "metadata": {},
   "source": [
    "# Visualize features"
   ]
  },
  {
   "cell_type": "code",
   "execution_count": null,
   "metadata": {},
   "outputs": [],
   "source": [
    "from visu import *\n",
    "index_candidate = 0\n",
    "index_feature = 0\n",
    "fts = feats.iloc[index_candidate,index_feature] \n",
    "heatmap_vizualisation(fts,\"voiced count\")"
   ]
  },
  {
   "cell_type": "code",
   "execution_count": null,
   "metadata": {},
   "outputs": [],
   "source": [
    "import ipywidgets as widgets\n",
    "from ipywidgets import Layout\n",
    "import seaborn as sns\n",
    "\n",
    "def print_boxplot(email,variable):\n",
    "        var = round(feats.loc[email,variable],3)\n",
    "\n",
    "        sns.set_theme(style=\"whitegrid\")\n",
    "        ax = sns.boxplot(y=variable, data=feats)\n",
    "        ax.axhline(var,c='r')\n",
    "\n",
    "        plt.text(-0.3, var*1.005, var, horizontalalignment='left', size='small', color='red', weight='normal')\n",
    "\n",
    "email = widgets.Select(\n",
    "    options = feats.index.tolist(),\n",
    "    description='Interview',\n",
    "    disabled=False,\n",
    "    layout = Layout(width='50%', height='80px', display='flex')\n",
    ")\n",
    "\n",
    "variable = widgets.Select(\n",
    "    options = feats.columns.tolist(),\n",
    "    description='Variable',\n",
    "    disabled=False,\n",
    "    layout = Layout(width='50%', height='80px', display='flex')\n",
    ")  \n",
    "\n",
    "widgets.interactive(print_boxplot,email=email,variable=variable)"
   ]
  },
  {
   "cell_type": "markdown",
   "metadata": {},
   "source": [
    "# Load saved model and explainer"
   ]
  },
  {
   "cell_type": "code",
   "execution_count": null,
   "metadata": {},
   "outputs": [],
   "source": [
    "#Lime works only with single output \n",
    "\n",
    "model_name = 'models/RF_single_output'\n",
    "loaded_model = pickle.load(open(model_name, 'rb'))\n",
    "\n",
    "explainer_name = 'models/explainer'\n",
    "with open(explainer_name, 'rb') as f:\n",
    "    explainer = dill.load(f)"
   ]
  },
  {
   "cell_type": "markdown",
   "metadata": {},
   "source": [
    "# Predict scores"
   ]
  },
  {
   "cell_type": "code",
   "execution_count": null,
   "metadata": {},
   "outputs": [],
   "source": [
    "predictions = loaded_model.predict(feats)\n",
    "#predictions = [tuple(p) for p in predictions]\n",
    "predictions"
   ]
  },
  {
   "cell_type": "markdown",
   "metadata": {},
   "source": [
    "# Explain results"
   ]
  },
  {
   "cell_type": "code",
   "execution_count": null,
   "metadata": {},
   "outputs": [],
   "source": [
    "# asking for explanation for LIME model\n",
    "\n",
    "i = np.random.randint(0, feats.shape[0]) #Choose the video to explain, by default it explains a random video\n",
    "\n",
    "exp = explainer.explain_instance(feats.iloc[i,:], loaded_model.predict_proba, top_labels=1)\n",
    "exp.show_in_notebook(show_table=True, show_all=False)"
   ]
  }
 ],
 "metadata": {
  "interpreter": {
   "hash": "22481484a5f7e79f314e40293bb4bf1039ec3aa5f1615d995a7f4d567969c466"
  },
  "kernelspec": {
   "display_name": "Python 3.8.12 ('pie')",
   "language": "python",
   "name": "python3"
  },
  "language_info": {
   "codemirror_mode": {
    "name": "ipython",
    "version": 3
   },
   "file_extension": ".py",
   "mimetype": "text/x-python",
   "name": "python",
   "nbconvert_exporter": "python",
   "pygments_lexer": "ipython3",
   "version": "3.8.12"
  },
  "orig_nbformat": 4
 },
 "nbformat": 4,
 "nbformat_minor": 2
}
