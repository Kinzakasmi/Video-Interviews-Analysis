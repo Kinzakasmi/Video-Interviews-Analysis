{
 "cells": [
  {
   "cell_type": "code",
   "execution_count": 15,
   "metadata": {},
   "outputs": [],
   "source": [
    "import pandas as pd\n",
    "import pydub\n",
    "import os\n",
    "import tqdm\n",
    "from utils import get_end_from_start, get_start_end_from_file\n",
    "from data import read_interview, get_features\n",
    "import matplotlib.pyplot as plt\n",
    "import numpy as np\n",
    "import pickle\n",
    "from lime import lime_tabular    \n",
    "import dill\n",
    "\n",
    "pydub.AudioSegment.converter = r\"C:/Users/Kinza/anaconda3/envs/pie/Library/bin/ffmpeg.exe\" #CHANGE THIS"
   ]
  },
  {
   "cell_type": "markdown",
   "metadata": {},
   "source": [
    "# Load videos and extract features"
   ]
  },
  {
   "cell_type": "code",
   "execution_count": null,
   "metadata": {},
   "outputs": [],
   "source": [
    "# Load videos and calculate feats\n",
    "video_folder = 'pred/'\n",
    "df_name = 'times.xlsx'  #Name of an Excel containing columns 'email','question','start' and 'end'\n",
    "\n",
    "filenames = tqdm(os.listdir(video_folder))\n",
    "df_startend = get_start_end_from_file(df_name)\n",
    "\n",
    "interviews = []\n",
    "for f in filenames : \n",
    "    interviews.append(read_interview(video_folder,df_startend,f))\n",
    "\n",
    "# Tidy feats and save to csv so you don't have to recalculate everything\n",
    "feats = [item for sublist in interviews for item in sublist]\n",
    "feats = get_features(feats)\n",
    "feats.to_csv(\"new_features.csv\")"
   ]
  },
  {
   "cell_type": "code",
   "execution_count": 4,
   "metadata": {},
   "outputs": [],
   "source": [
    "feats = pd.read_csv('new_features.csv')\n",
    "feats = feats.set_index('id')"
   ]
  },
  {
   "cell_type": "markdown",
   "metadata": {},
   "source": [
    "# Load saved model and explainer"
   ]
  },
  {
   "cell_type": "code",
   "execution_count": 5,
   "metadata": {},
   "outputs": [],
   "source": [
    "#Lime works only with single output \n",
    "\n",
    "model_name = 'RF_single_output'\n",
    "loaded_model = pickle.load(open(model_name, 'rb'))\n",
    "\n",
    "with open('explainer', 'rb') as f:\n",
    "    explainer = dill.load(f)"
   ]
  },
  {
   "cell_type": "markdown",
   "metadata": {},
   "source": [
    "# Predict scores"
   ]
  },
  {
   "cell_type": "code",
   "execution_count": null,
   "metadata": {},
   "outputs": [],
   "source": [
    "predictions = loaded_model.predict(feats)\n",
    "predictions = [tuple(p) for p in predictions]\n",
    "feats['predictions'] = predictions"
   ]
  },
  {
   "cell_type": "markdown",
   "metadata": {},
   "source": [
    "# Explain results"
   ]
  },
  {
   "cell_type": "code",
   "execution_count": 19,
   "metadata": {},
   "outputs": [],
   "source": [
    "# asking for explanation for LIME model\n",
    "\n",
    "i = np.random.randint(0, feats.shape[0]) #Choose the video to explain, by default it explains a random video\n",
    "\n",
    "exp = explainer.explain_instance(feats.iloc[i,:], loaded_model.predict_proba, top_labels=1)\n",
    "exp.show_in_notebook(show_table=True, show_all=False)"
   ]
  }
 ],
 "metadata": {
  "interpreter": {
   "hash": "22481484a5f7e79f314e40293bb4bf1039ec3aa5f1615d995a7f4d567969c466"
  },
  "kernelspec": {
   "display_name": "Python 3.8.12 ('pie')",
   "language": "python",
   "name": "python3"
  },
  "language_info": {
   "codemirror_mode": {
    "name": "ipython",
    "version": 3
   },
   "file_extension": ".py",
   "mimetype": "text/x-python",
   "name": "python",
   "nbconvert_exporter": "python",
   "pygments_lexer": "ipython3",
   "version": "3.8.12"
  },
  "orig_nbformat": 4
 },
 "nbformat": 4,
 "nbformat_minor": 2
}
