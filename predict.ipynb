{
 "cells": [
  {
   "cell_type": "code",
   "execution_count": null,
   "metadata": {},
   "outputs": [],
   "source": [
    "import pandas as pd\n",
    "import pydub\n",
    "import os\n",
    "from utils import get_end_from_start, get_start_end_from_file\n",
    "from data import read_interview, get_features\n",
    "import matplotlib.pyplot as plt\n",
    "\n",
    "pydub.AudioSegment.converter = r\"C:/Users/Kinza/anaconda3/envs/pie/Library/bin/ffmpeg.exe\" #CHANGE THIS"
   ]
  },
  {
   "cell_type": "code",
   "execution_count": null,
   "metadata": {},
   "outputs": [],
   "source": [
    "# Load videos and calculate feats\n",
    "video_folder = 'pred/'\n",
    "df_name = 'notes_entretiens_all.xlsx'\n",
    "\n",
    "filenames = tqdm(os.listdir(video_folder))\n",
    "df_startend = get_start_end_from_file(df_name)\n",
    "\n",
    "interviews = []\n",
    "for f in filenames : \n",
    "    interviews.append(read_interview(video_folder,df_startend,f))\n",
    "\n",
    "# Tidy feats and save to csv so you don't have to recalculate everything\n",
    "feats = [item for sublist in interviews for item in sublist]\n",
    "feats = get_features(feats)\n",
    "feats.to_csv(\"audio_lexic.csv\")"
   ]
  }
 ],
 "metadata": {
  "language_info": {
   "name": "python"
  },
  "orig_nbformat": 4
 },
 "nbformat": 4,
 "nbformat_minor": 2
}
