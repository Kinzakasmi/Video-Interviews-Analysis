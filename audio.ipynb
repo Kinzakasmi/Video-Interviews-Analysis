{
 "cells": [
  {
   "cell_type": "markdown",
   "metadata": {},
   "source": [
    "pip install numpy  \n",
    "pip install pandas  \n",
    "pip install openpyxl  \n",
    "pip install tqdm\n",
    "pip install ffmpeg  \n",
    "pip install pydub  \n",
    "conda install -c conda-forge librosa  \n",
    "pip install -U praat-parselmouth"
   ]
  },
  {
   "cell_type": "code",
   "execution_count": 4,
   "metadata": {},
   "outputs": [],
   "source": [
    "import pydub\n",
    "import pandas as pd\n",
    "from tqdm import tqdm\n",
    "import os\n",
    "\n",
    "pydub.AudioSegment.converter = r\"C:/Users/Kinza/anaconda3/envs/pie/Library/bin/ffmpeg.exe\" #CHANGE THIS"
   ]
  },
  {
   "cell_type": "markdown",
   "metadata": {},
   "source": [
    "# Data loading"
   ]
  },
  {
   "cell_type": "code",
   "execution_count": 5,
   "metadata": {},
   "outputs": [],
   "source": [
    "def get_end_from_start(df_mail):\n",
    "    end             = df_mail.iloc[1:,:]['start'].copy()\n",
    "    end[len(end)+1] = -1\n",
    "    df_mail['end']  = end.values\n",
    "    return df_mail\n",
    "\n",
    "def get_start_end_from_file(file):\n",
    "    #Get start and end times\n",
    "    df = pd.read_excel(file)\n",
    "    df = df.rename(columns={'time':'start'}) \n",
    "    df['start'] = df['start']*1000 #in ms\n",
    "\n",
    "    df = df.groupby('mail').apply(get_end_from_start)\n",
    "    return df\n",
    "\n",
    "def load_audios(video_folder,startend_file) :\n",
    "    '''Loads the audios from each interview question.\n",
    "    Arguments:\n",
    "        video_folder : str. The name of the folder containing mp4 videos.\n",
    "        startend_file : str. The name of the file containing the video informations. \n",
    "            Must contain columns 'mail' and 'time'.\n",
    "    Returns a list of audios\n",
    "    '''\n",
    "    filenames = tqdm(os.listdir(video_folder))\n",
    "    df_startend = get_start_end_from_file(startend_file)\n",
    "    audios = list(map(lambda f : load_audio(video_folder,df_startend,f), filenames))\n",
    "    return [item for sublist in audios for item in sublist]\n"
   ]
  },
  {
   "cell_type": "code",
   "execution_count": 6,
   "metadata": {},
   "outputs": [
    {
     "name": "stderr",
     "output_type": "stream",
     "text": [
      "  0%|          | 0/3 [00:00<?, ?it/s]"
     ]
    },
    {
     "name": "stdout",
     "output_type": "stream",
     "text": [
      "alexis.przybylak@student.isae-supaero.fr 0\n"
     ]
    },
    {
     "name": "stderr",
     "output_type": "stream",
     "text": [
      "C:\\Users\\Kinza\\anaconda3\\envs\\pie\\lib\\site-packages\\librosa\\core\\convert.py:1350: RuntimeWarning: divide by zero encountered in log10\n",
      "  + 2 * np.log10(f_sq)\n"
     ]
    }
   ],
   "source": [
    "from audio_feats_extract import load_audio\n",
    "\n",
    "video_folder = 'videos/'\n",
    "df_name = 'test.xlsx'\n",
    "\n",
    "audios = load_audios(video_folder,df_name)"
   ]
  },
  {
   "cell_type": "markdown",
   "metadata": {},
   "source": [
    "# Load features"
   ]
  },
  {
   "cell_type": "code",
   "execution_count": null,
   "metadata": {},
   "outputs": [],
   "source": [
    "import pandas as pd\n",
    "\n",
    "all_features = []\n",
    "for (i,audio) in enumerate(audios):\n",
    "    features = pd.concat([audio.pauses_features,audio.spectral_features,audio.prosodic_features])\n",
    "    features['email'] = audio.email\n",
    "    features['question'] = audio.question\n",
    "\n",
    "    features['temp'] = features.index\n",
    "    features = features.pivot_table(index='timestamp', columns='temp', values=features.columns[-3], aggfunc='first')\n",
    "\n",
    "    all_features = all_features.append(features)\n",
    "\n",
    "all_features = pd.concat(all_features)"
   ]
  },
  {
   "cell_type": "markdown",
   "metadata": {},
   "source": [
    "# PCA"
   ]
  },
  {
   "cell_type": "code",
   "execution_count": null,
   "metadata": {},
   "outputs": [],
   "source": [
    "from pca import pca\n",
    "\n",
    "model = pca(n_components=2)\n",
    "\n",
    "# Fit transform\n",
    "features_pca = model.fit_transform(features.drop('classes',axis=1))\n",
    "\n",
    "print(model.compute_topfeat())\n",
    "\n",
    "# Scatter first 2 PCs\n",
    "fig, ax = model.scatter(legend=False)\n",
    "\n",
    "# Make biplot with the number of features\n",
    "fig, ax = model.biplot(n_feat=10,legend=False)\n",
    "\n",
    "import matplotlib.pyplot as plt\n",
    "plt.scatter(features_pca['PC']['PC1'],features_pca['PC']['PC2'],c=features['classes'])"
   ]
  }
 ],
 "metadata": {
  "interpreter": {
   "hash": "22481484a5f7e79f314e40293bb4bf1039ec3aa5f1615d995a7f4d567969c466"
  },
  "kernelspec": {
   "display_name": "Python 3.8.5 64-bit ('pie': conda)",
   "language": "python",
   "name": "python3"
  },
  "language_info": {
   "codemirror_mode": {
    "name": "ipython",
    "version": 3
   },
   "file_extension": ".py",
   "mimetype": "text/x-python",
   "name": "python",
   "nbconvert_exporter": "python",
   "pygments_lexer": "ipython3",
   "version": "3.8.5"
  },
  "orig_nbformat": 4
 },
 "nbformat": 4,
 "nbformat_minor": 2
}
