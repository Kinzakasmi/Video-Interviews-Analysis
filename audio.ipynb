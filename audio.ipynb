{
 "cells": [
  {
   "cell_type": "markdown",
   "metadata": {},
   "source": [
    "pip install numpy  \n",
    "pip install pandas  \n",
    "pip install openpyxl  \n",
    "pip install tqdm\n",
    "pip install ffmpeg  \n",
    "pip install pydub  \n",
    "conda install -c conda-forge librosa  "
   ]
  },
  {
   "cell_type": "code",
   "execution_count": 1,
   "metadata": {},
   "outputs": [],
   "source": [
    "import pydub\n",
    "import pandas as pd\n",
    "from tqdm import tqdm\n",
    "\n",
    "pydub.AudioSegment.converter = r\"C:/Users/Kinza/anaconda3/envs/pie/Library/bin/ffmpeg.exe\" #CHANGE THIS"
   ]
  },
  {
   "cell_type": "markdown",
   "metadata": {},
   "source": [
    "# Data loading"
   ]
  },
  {
   "cell_type": "code",
   "execution_count": 2,
   "metadata": {},
   "outputs": [],
   "source": [
    "def get_end_from_start(df_mail):\n",
    "    end             = df_mail.iloc[1:,:]['start'].copy()\n",
    "    end[len(end)+1] = -1\n",
    "    df_mail['end']  = end.values\n",
    "    return df_mail\n",
    "\n",
    "def get_start_end_from_file(file):\n",
    "    #Get start and end times\n",
    "    df = pd.read_excel(file)\n",
    "    df = df.rename(columns={'time':'start'}) \n",
    "    df['start'] = df['start']*1000 #in ms\n",
    "\n",
    "    df = df.groupby('mail').apply(get_end_from_start)\n",
    "    return df\n",
    "\n",
    "def load_audios(video_folder,startend_file) :\n",
    "    '''Loads the audios from each interview question.\n",
    "    Arguments:\n",
    "        video_folder : str. The name of the folder containing mp4 videos.\n",
    "        startend_file : str. The name of the file containing the video informations. \n",
    "            Must contain columns 'mail' and 'time'.\n",
    "    Returns a list of audios\n",
    "    '''\n",
    "    filenames = tqdm(os.listdir(video_folder))\n",
    "    df_startend = get_start_end_from_file(startend_file)\n",
    "    audios = list(map(lambda f : split_questions(video_folder,df_startend,f), filenames))\n",
    "    return [item for sublist in audios for item in sublist]\n"
   ]
  },
  {
   "cell_type": "code",
   "execution_count": 3,
   "metadata": {},
   "outputs": [
    {
     "name": "stderr",
     "output_type": "stream",
     "text": [
      "100%|██████████| 4/4 [00:06<00:00,  1.63s/it]\n"
     ]
    }
   ],
   "source": [
    "from audio_utils import split_questions\n",
    "\n",
    "video_folder = 'videos/'\n",
    "df_name = 'test.xlsx'\n",
    "\n",
    "audios = load_audios(video_folder,df_name)"
   ]
  },
  {
   "cell_type": "markdown",
   "metadata": {},
   "source": [
    "# Preprocessing"
   ]
  },
  {
   "cell_type": "code",
   "execution_count": 4,
   "metadata": {},
   "outputs": [],
   "source": [
    "#silence_feats = list(map(pauses_features,tqdm(audios)))[:-1]\n",
    "from audio_feats_extract import Audio\n",
    "audios = [Audio(audio) for audio in audios]"
   ]
  },
  {
   "cell_type": "code",
   "execution_count": 5,
   "metadata": {},
   "outputs": [
    {
     "name": "stderr",
     "output_type": "stream",
     "text": [
      "100%|██████████| 12/12 [00:31<00:00,  2.65s/it]\n"
     ]
    }
   ],
   "source": [
    "for audio in tqdm(audios):\n",
    "    audio.preprocessing()"
   ]
  },
  {
   "cell_type": "markdown",
   "metadata": {},
   "source": [
    "spectral_features.columns = ['chroma_stft','rms','spec_cent','spec_bw','rolloff','zcr']+['mfcc_'+str(i) for i in range(20)]"
   ]
  },
  {
   "cell_type": "markdown",
   "metadata": {},
   "source": [
    "# Prosodic features"
   ]
  },
  {
   "cell_type": "markdown",
   "metadata": {},
   "source": [
    "It captures the intonation of speech, the rhythm or the tone of speech. They reveal the information\n",
    "about the identity, attitude and emotional state of the underlying signal"
   ]
  },
  {
   "cell_type": "code",
   "execution_count": null,
   "metadata": {},
   "outputs": [],
   "source": []
  },
  {
   "cell_type": "markdown",
   "metadata": {},
   "source": [
    "# Load features"
   ]
  },
  {
   "cell_type": "code",
   "execution_count": null,
   "metadata": {},
   "outputs": [],
   "source": [
    "import pandas as pd\n",
    "\n",
    "features = pd.read_csv('features.csv',index_col=0)\n",
    "features.index = map(lambda s : s.split('@')[0],filenames)"
   ]
  },
  {
   "cell_type": "markdown",
   "metadata": {},
   "source": [
    "# PCA"
   ]
  },
  {
   "cell_type": "code",
   "execution_count": null,
   "metadata": {},
   "outputs": [],
   "source": [
    "from pca import pca\n",
    "\n",
    "model = pca(n_components=2)\n",
    "\n",
    "# Fit transform\n",
    "features_pca = model.fit_transform(features.drop('classes',axis=1))\n",
    "\n",
    "print(model.compute_topfeat())\n",
    "\n",
    "# Scatter first 2 PCs\n",
    "fig, ax = model.scatter(legend=False)\n",
    "\n",
    "# Make biplot with the number of features\n",
    "fig, ax = model.biplot(n_feat=10,legend=False)\n",
    "\n",
    "import matplotlib.pyplot as plt\n",
    "plt.scatter(features_pca['PC']['PC1'],features_pca['PC']['PC2'],c=features['classes'])"
   ]
  }
 ],
 "metadata": {
  "interpreter": {
   "hash": "22481484a5f7e79f314e40293bb4bf1039ec3aa5f1615d995a7f4d567969c466"
  },
  "kernelspec": {
   "display_name": "Python 3.8.5 64-bit ('pie': conda)",
   "language": "python",
   "name": "python3"
  },
  "language_info": {
   "codemirror_mode": {
    "name": "ipython",
    "version": 3
   },
   "file_extension": ".py",
   "mimetype": "text/x-python",
   "name": "python",
   "nbconvert_exporter": "python",
   "pygments_lexer": "ipython3",
   "version": "3.8.5"
  },
  "orig_nbformat": 4
 },
 "nbformat": 4,
 "nbformat_minor": 2
}
